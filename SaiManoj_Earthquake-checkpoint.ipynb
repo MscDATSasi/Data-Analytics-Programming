{
 "cells": [
  {
   "cell_type": "markdown",
   "id": "67dfa675",
   "metadata": {},
   "source": [
    "### Name: Sai Manoj Thirunahari\n",
    "### Dataset 4: Earthquake\n",
    "### Student ID: x21146730"
   ]
  },
  {
   "cell_type": "code",
   "execution_count": 1,
   "id": "30f06d4c",
   "metadata": {},
   "outputs": [],
   "source": [
    "%matplotlib inline\n",
    "import pandas as pd\n",
    "from matplotlib import pyplot as plt\n",
    "import matplotlib as m\n",
    "import seaborn as sns\n",
    "m.style.use('ggplot')\n",
    "import numpy as np\n",
    "import os"
   ]
  },
  {
   "cell_type": "code",
   "execution_count": 2,
   "id": "7d6fa4b6",
   "metadata": {},
   "outputs": [],
   "source": [
    "#Set current working directory\n",
    "#os.chdir('C:\\Msc Data Analytics\\Database and Analytics program\\DAP_PRJ\\Project files\\Source_Files')"
   ]
  },
  {
   "cell_type": "code",
   "execution_count": 3,
   "id": "59131d3b",
   "metadata": {},
   "outputs": [
    {
     "data": {
      "text/html": [
       "<div>\n",
       "<style scoped>\n",
       "    .dataframe tbody tr th:only-of-type {\n",
       "        vertical-align: middle;\n",
       "    }\n",
       "\n",
       "    .dataframe tbody tr th {\n",
       "        vertical-align: top;\n",
       "    }\n",
       "\n",
       "    .dataframe thead th {\n",
       "        text-align: right;\n",
       "    }\n",
       "</style>\n",
       "<table border=\"1\" class=\"dataframe\">\n",
       "  <thead>\n",
       "    <tr style=\"text-align: right;\">\n",
       "      <th></th>\n",
       "      <th>Date_Time</th>\n",
       "      <th>Latitude</th>\n",
       "      <th>Longitude</th>\n",
       "      <th>Type</th>\n",
       "      <th>Depth</th>\n",
       "      <th>Depth Error</th>\n",
       "      <th>Depth Seismic Stations</th>\n",
       "      <th>Magnitude</th>\n",
       "      <th>Magnitude Type</th>\n",
       "      <th>Magnitude Error</th>\n",
       "      <th>Magnitude Seismic Stations</th>\n",
       "      <th>Azimuthal Gap</th>\n",
       "      <th>Horizontal Distance</th>\n",
       "      <th>Horizontal Error</th>\n",
       "      <th>Root Mean Square</th>\n",
       "      <th>ID</th>\n",
       "      <th>Source</th>\n",
       "      <th>Location Source</th>\n",
       "      <th>Magnitude Source</th>\n",
       "      <th>Status</th>\n",
       "    </tr>\n",
       "  </thead>\n",
       "  <tbody>\n",
       "    <tr>\n",
       "      <th>0</th>\n",
       "      <td>01/02/1965 13:44:18</td>\n",
       "      <td>19.246</td>\n",
       "      <td>145.616</td>\n",
       "      <td>Earthquake</td>\n",
       "      <td>131.6</td>\n",
       "      <td>NaN</td>\n",
       "      <td>NaN</td>\n",
       "      <td>6.0</td>\n",
       "      <td>MW</td>\n",
       "      <td>NaN</td>\n",
       "      <td>NaN</td>\n",
       "      <td>NaN</td>\n",
       "      <td>NaN</td>\n",
       "      <td>NaN</td>\n",
       "      <td>NaN</td>\n",
       "      <td>ISCGEM860706</td>\n",
       "      <td>ISCGEM</td>\n",
       "      <td>ISCGEM</td>\n",
       "      <td>ISCGEM</td>\n",
       "      <td>Automatic</td>\n",
       "    </tr>\n",
       "    <tr>\n",
       "      <th>1</th>\n",
       "      <td>01/04/1965 11:29:49</td>\n",
       "      <td>1.863</td>\n",
       "      <td>127.352</td>\n",
       "      <td>Earthquake</td>\n",
       "      <td>80.0</td>\n",
       "      <td>NaN</td>\n",
       "      <td>NaN</td>\n",
       "      <td>5.8</td>\n",
       "      <td>MW</td>\n",
       "      <td>NaN</td>\n",
       "      <td>NaN</td>\n",
       "      <td>NaN</td>\n",
       "      <td>NaN</td>\n",
       "      <td>NaN</td>\n",
       "      <td>NaN</td>\n",
       "      <td>ISCGEM860737</td>\n",
       "      <td>ISCGEM</td>\n",
       "      <td>ISCGEM</td>\n",
       "      <td>ISCGEM</td>\n",
       "      <td>Automatic</td>\n",
       "    </tr>\n",
       "    <tr>\n",
       "      <th>2</th>\n",
       "      <td>01/05/1965 18:05:58</td>\n",
       "      <td>-20.579</td>\n",
       "      <td>-173.972</td>\n",
       "      <td>Earthquake</td>\n",
       "      <td>20.0</td>\n",
       "      <td>NaN</td>\n",
       "      <td>NaN</td>\n",
       "      <td>6.2</td>\n",
       "      <td>MW</td>\n",
       "      <td>NaN</td>\n",
       "      <td>NaN</td>\n",
       "      <td>NaN</td>\n",
       "      <td>NaN</td>\n",
       "      <td>NaN</td>\n",
       "      <td>NaN</td>\n",
       "      <td>ISCGEM860762</td>\n",
       "      <td>ISCGEM</td>\n",
       "      <td>ISCGEM</td>\n",
       "      <td>ISCGEM</td>\n",
       "      <td>Automatic</td>\n",
       "    </tr>\n",
       "    <tr>\n",
       "      <th>3</th>\n",
       "      <td>01/08/1965 18:49:43</td>\n",
       "      <td>-59.076</td>\n",
       "      <td>-23.557</td>\n",
       "      <td>Earthquake</td>\n",
       "      <td>15.0</td>\n",
       "      <td>NaN</td>\n",
       "      <td>NaN</td>\n",
       "      <td>5.8</td>\n",
       "      <td>MW</td>\n",
       "      <td>NaN</td>\n",
       "      <td>NaN</td>\n",
       "      <td>NaN</td>\n",
       "      <td>NaN</td>\n",
       "      <td>NaN</td>\n",
       "      <td>NaN</td>\n",
       "      <td>ISCGEM860856</td>\n",
       "      <td>ISCGEM</td>\n",
       "      <td>ISCGEM</td>\n",
       "      <td>ISCGEM</td>\n",
       "      <td>Automatic</td>\n",
       "    </tr>\n",
       "    <tr>\n",
       "      <th>4</th>\n",
       "      <td>01/09/1965 13:32:50</td>\n",
       "      <td>11.938</td>\n",
       "      <td>126.427</td>\n",
       "      <td>Earthquake</td>\n",
       "      <td>15.0</td>\n",
       "      <td>NaN</td>\n",
       "      <td>NaN</td>\n",
       "      <td>5.8</td>\n",
       "      <td>MW</td>\n",
       "      <td>NaN</td>\n",
       "      <td>NaN</td>\n",
       "      <td>NaN</td>\n",
       "      <td>NaN</td>\n",
       "      <td>NaN</td>\n",
       "      <td>NaN</td>\n",
       "      <td>ISCGEM860890</td>\n",
       "      <td>ISCGEM</td>\n",
       "      <td>ISCGEM</td>\n",
       "      <td>ISCGEM</td>\n",
       "      <td>Automatic</td>\n",
       "    </tr>\n",
       "    <tr>\n",
       "      <th>5</th>\n",
       "      <td>01/10/1965 13:36:32</td>\n",
       "      <td>-13.405</td>\n",
       "      <td>166.629</td>\n",
       "      <td>Earthquake</td>\n",
       "      <td>35.0</td>\n",
       "      <td>NaN</td>\n",
       "      <td>NaN</td>\n",
       "      <td>6.7</td>\n",
       "      <td>MW</td>\n",
       "      <td>NaN</td>\n",
       "      <td>NaN</td>\n",
       "      <td>NaN</td>\n",
       "      <td>NaN</td>\n",
       "      <td>NaN</td>\n",
       "      <td>NaN</td>\n",
       "      <td>ISCGEM860922</td>\n",
       "      <td>ISCGEM</td>\n",
       "      <td>ISCGEM</td>\n",
       "      <td>ISCGEM</td>\n",
       "      <td>Automatic</td>\n",
       "    </tr>\n",
       "    <tr>\n",
       "      <th>6</th>\n",
       "      <td>01/12/1965 13:32:25</td>\n",
       "      <td>27.357</td>\n",
       "      <td>87.867</td>\n",
       "      <td>Earthquake</td>\n",
       "      <td>20.0</td>\n",
       "      <td>NaN</td>\n",
       "      <td>NaN</td>\n",
       "      <td>5.9</td>\n",
       "      <td>MW</td>\n",
       "      <td>NaN</td>\n",
       "      <td>NaN</td>\n",
       "      <td>NaN</td>\n",
       "      <td>NaN</td>\n",
       "      <td>NaN</td>\n",
       "      <td>NaN</td>\n",
       "      <td>ISCGEM861007</td>\n",
       "      <td>ISCGEM</td>\n",
       "      <td>ISCGEM</td>\n",
       "      <td>ISCGEM</td>\n",
       "      <td>Automatic</td>\n",
       "    </tr>\n",
       "    <tr>\n",
       "      <th>7</th>\n",
       "      <td>01/15/1965 23:17:42</td>\n",
       "      <td>-13.309</td>\n",
       "      <td>166.212</td>\n",
       "      <td>Earthquake</td>\n",
       "      <td>35.0</td>\n",
       "      <td>NaN</td>\n",
       "      <td>NaN</td>\n",
       "      <td>6.0</td>\n",
       "      <td>MW</td>\n",
       "      <td>NaN</td>\n",
       "      <td>NaN</td>\n",
       "      <td>NaN</td>\n",
       "      <td>NaN</td>\n",
       "      <td>NaN</td>\n",
       "      <td>NaN</td>\n",
       "      <td>ISCGEM861111</td>\n",
       "      <td>ISCGEM</td>\n",
       "      <td>ISCGEM</td>\n",
       "      <td>ISCGEM</td>\n",
       "      <td>Automatic</td>\n",
       "    </tr>\n",
       "    <tr>\n",
       "      <th>8</th>\n",
       "      <td>01/16/1965 11:32:37</td>\n",
       "      <td>-56.452</td>\n",
       "      <td>-27.043</td>\n",
       "      <td>Earthquake</td>\n",
       "      <td>95.0</td>\n",
       "      <td>NaN</td>\n",
       "      <td>NaN</td>\n",
       "      <td>6.0</td>\n",
       "      <td>MW</td>\n",
       "      <td>NaN</td>\n",
       "      <td>NaN</td>\n",
       "      <td>NaN</td>\n",
       "      <td>NaN</td>\n",
       "      <td>NaN</td>\n",
       "      <td>NaN</td>\n",
       "      <td>ISCGEMSUP861125</td>\n",
       "      <td>ISCGEMSUP</td>\n",
       "      <td>ISCGEM</td>\n",
       "      <td>ISCGEM</td>\n",
       "      <td>Automatic</td>\n",
       "    </tr>\n",
       "    <tr>\n",
       "      <th>9</th>\n",
       "      <td>01/17/1965 10:43:17</td>\n",
       "      <td>-24.563</td>\n",
       "      <td>178.487</td>\n",
       "      <td>Earthquake</td>\n",
       "      <td>565.0</td>\n",
       "      <td>NaN</td>\n",
       "      <td>NaN</td>\n",
       "      <td>5.8</td>\n",
       "      <td>MW</td>\n",
       "      <td>NaN</td>\n",
       "      <td>NaN</td>\n",
       "      <td>NaN</td>\n",
       "      <td>NaN</td>\n",
       "      <td>NaN</td>\n",
       "      <td>NaN</td>\n",
       "      <td>ISCGEM861148</td>\n",
       "      <td>ISCGEM</td>\n",
       "      <td>ISCGEM</td>\n",
       "      <td>ISCGEM</td>\n",
       "      <td>Automatic</td>\n",
       "    </tr>\n",
       "  </tbody>\n",
       "</table>\n",
       "</div>"
      ],
      "text/plain": [
       "             Date_Time  Latitude  Longitude        Type  Depth  Depth Error  \\\n",
       "0  01/02/1965 13:44:18    19.246    145.616  Earthquake  131.6          NaN   \n",
       "1  01/04/1965 11:29:49     1.863    127.352  Earthquake   80.0          NaN   \n",
       "2  01/05/1965 18:05:58   -20.579   -173.972  Earthquake   20.0          NaN   \n",
       "3  01/08/1965 18:49:43   -59.076    -23.557  Earthquake   15.0          NaN   \n",
       "4  01/09/1965 13:32:50    11.938    126.427  Earthquake   15.0          NaN   \n",
       "5  01/10/1965 13:36:32   -13.405    166.629  Earthquake   35.0          NaN   \n",
       "6  01/12/1965 13:32:25    27.357     87.867  Earthquake   20.0          NaN   \n",
       "7  01/15/1965 23:17:42   -13.309    166.212  Earthquake   35.0          NaN   \n",
       "8  01/16/1965 11:32:37   -56.452    -27.043  Earthquake   95.0          NaN   \n",
       "9  01/17/1965 10:43:17   -24.563    178.487  Earthquake  565.0          NaN   \n",
       "\n",
       "   Depth Seismic Stations  Magnitude Magnitude Type  Magnitude Error  \\\n",
       "0                     NaN        6.0             MW              NaN   \n",
       "1                     NaN        5.8             MW              NaN   \n",
       "2                     NaN        6.2             MW              NaN   \n",
       "3                     NaN        5.8             MW              NaN   \n",
       "4                     NaN        5.8             MW              NaN   \n",
       "5                     NaN        6.7             MW              NaN   \n",
       "6                     NaN        5.9             MW              NaN   \n",
       "7                     NaN        6.0             MW              NaN   \n",
       "8                     NaN        6.0             MW              NaN   \n",
       "9                     NaN        5.8             MW              NaN   \n",
       "\n",
       "   Magnitude Seismic Stations  Azimuthal Gap  Horizontal Distance  \\\n",
       "0                         NaN            NaN                  NaN   \n",
       "1                         NaN            NaN                  NaN   \n",
       "2                         NaN            NaN                  NaN   \n",
       "3                         NaN            NaN                  NaN   \n",
       "4                         NaN            NaN                  NaN   \n",
       "5                         NaN            NaN                  NaN   \n",
       "6                         NaN            NaN                  NaN   \n",
       "7                         NaN            NaN                  NaN   \n",
       "8                         NaN            NaN                  NaN   \n",
       "9                         NaN            NaN                  NaN   \n",
       "\n",
       "   Horizontal Error  Root Mean Square               ID     Source  \\\n",
       "0               NaN               NaN     ISCGEM860706     ISCGEM   \n",
       "1               NaN               NaN     ISCGEM860737     ISCGEM   \n",
       "2               NaN               NaN     ISCGEM860762     ISCGEM   \n",
       "3               NaN               NaN     ISCGEM860856     ISCGEM   \n",
       "4               NaN               NaN     ISCGEM860890     ISCGEM   \n",
       "5               NaN               NaN     ISCGEM860922     ISCGEM   \n",
       "6               NaN               NaN     ISCGEM861007     ISCGEM   \n",
       "7               NaN               NaN     ISCGEM861111     ISCGEM   \n",
       "8               NaN               NaN  ISCGEMSUP861125  ISCGEMSUP   \n",
       "9               NaN               NaN     ISCGEM861148     ISCGEM   \n",
       "\n",
       "  Location Source Magnitude Source     Status  \n",
       "0          ISCGEM           ISCGEM  Automatic  \n",
       "1          ISCGEM           ISCGEM  Automatic  \n",
       "2          ISCGEM           ISCGEM  Automatic  \n",
       "3          ISCGEM           ISCGEM  Automatic  \n",
       "4          ISCGEM           ISCGEM  Automatic  \n",
       "5          ISCGEM           ISCGEM  Automatic  \n",
       "6          ISCGEM           ISCGEM  Automatic  \n",
       "7          ISCGEM           ISCGEM  Automatic  \n",
       "8          ISCGEM           ISCGEM  Automatic  \n",
       "9          ISCGEM           ISCGEM  Automatic  "
      ]
     },
     "execution_count": 3,
     "metadata": {},
     "output_type": "execute_result"
    }
   ],
   "source": [
    "data = pd.read_csv(\"earthquake.csv\",parse_dates=[['Date', 'Time']])\n",
    "data.head(10)"
   ]
  },
  {
   "cell_type": "code",
   "execution_count": 4,
   "id": "0aac5f47",
   "metadata": {},
   "outputs": [
    {
     "name": "stdout",
     "output_type": "stream",
     "text": [
      "<class 'pandas.core.frame.DataFrame'>\n",
      "RangeIndex: 23412 entries, 0 to 23411\n",
      "Data columns (total 20 columns):\n",
      " #   Column                      Non-Null Count  Dtype  \n",
      "---  ------                      --------------  -----  \n",
      " 0   Date_Time                   23412 non-null  object \n",
      " 1   Latitude                    23412 non-null  float64\n",
      " 2   Longitude                   23412 non-null  float64\n",
      " 3   Type                        23412 non-null  object \n",
      " 4   Depth                       23412 non-null  float64\n",
      " 5   Depth Error                 4461 non-null   float64\n",
      " 6   Depth Seismic Stations      7097 non-null   float64\n",
      " 7   Magnitude                   23412 non-null  float64\n",
      " 8   Magnitude Type              23409 non-null  object \n",
      " 9   Magnitude Error             327 non-null    float64\n",
      " 10  Magnitude Seismic Stations  2564 non-null   float64\n",
      " 11  Azimuthal Gap               7299 non-null   float64\n",
      " 12  Horizontal Distance         1604 non-null   float64\n",
      " 13  Horizontal Error            1156 non-null   float64\n",
      " 14  Root Mean Square            17352 non-null  float64\n",
      " 15  ID                          23412 non-null  object \n",
      " 16  Source                      23412 non-null  object \n",
      " 17  Location Source             23412 non-null  object \n",
      " 18  Magnitude Source            23412 non-null  object \n",
      " 19  Status                      23412 non-null  object \n",
      "dtypes: float64(12), object(8)\n",
      "memory usage: 3.6+ MB\n"
     ]
    }
   ],
   "source": [
    "data.info()"
   ]
  },
  {
   "cell_type": "code",
   "execution_count": 5,
   "id": "942b0305",
   "metadata": {},
   "outputs": [],
   "source": [
    "data['Date_Time'] = pd.to_datetime(data['Date_Time'],errors='coerce')"
   ]
  },
  {
   "cell_type": "code",
   "execution_count": 6,
   "id": "994b5968",
   "metadata": {},
   "outputs": [
    {
     "data": {
      "text/plain": [
       "dtype('<M8[ns]')"
      ]
     },
     "execution_count": 6,
     "metadata": {},
     "output_type": "execute_result"
    }
   ],
   "source": [
    "data['Date_Time'].dtypes"
   ]
  },
  {
   "cell_type": "code",
   "execution_count": 7,
   "id": "2f45229b",
   "metadata": {},
   "outputs": [
    {
     "data": {
      "text/plain": [
       "3378    NaT\n",
       "7512    NaT\n",
       "20650   NaT\n",
       "Name: Date_Time, dtype: datetime64[ns]"
      ]
     },
     "execution_count": 7,
     "metadata": {},
     "output_type": "execute_result"
    }
   ],
   "source": [
    "data['Date_Time'].loc[data['Date_Time'].isnull()]"
   ]
  },
  {
   "cell_type": "code",
   "execution_count": 8,
   "id": "839b733b",
   "metadata": {},
   "outputs": [
    {
     "data": {
      "text/plain": [
       "3378    NaT\n",
       "7512    NaT\n",
       "20650   NaT\n",
       "Name: Date_Time, dtype: datetime64[ns]"
      ]
     },
     "execution_count": 8,
     "metadata": {},
     "output_type": "execute_result"
    }
   ],
   "source": [
    "data['Date_Time'].loc[[3378,7512,20650]]"
   ]
  },
  {
   "cell_type": "code",
   "execution_count": 9,
   "id": "1b25da74",
   "metadata": {},
   "outputs": [
    {
     "name": "stderr",
     "output_type": "stream",
     "text": [
      "C:\\Users\\ADMIN\\AppData\\Local\\Temp/ipykernel_14556/3860014419.py:1: SettingWithCopyWarning: \n",
      "A value is trying to be set on a copy of a slice from a DataFrame\n",
      "\n",
      "See the caveats in the documentation: https://pandas.pydata.org/pandas-docs/stable/user_guide/indexing.html#returning-a-view-versus-a-copy\n",
      "  data['Date_Time'][3378] = '1975-02-23'\n",
      "C:\\Users\\ADMIN\\AppData\\Local\\Temp/ipykernel_14556/3860014419.py:2: SettingWithCopyWarning: \n",
      "A value is trying to be set on a copy of a slice from a DataFrame\n",
      "\n",
      "See the caveats in the documentation: https://pandas.pydata.org/pandas-docs/stable/user_guide/indexing.html#returning-a-view-versus-a-copy\n",
      "  data['Date_Time'][7512] = '1985-04-28'\n",
      "C:\\Users\\ADMIN\\AppData\\Local\\Temp/ipykernel_14556/3860014419.py:3: SettingWithCopyWarning: \n",
      "A value is trying to be set on a copy of a slice from a DataFrame\n",
      "\n",
      "See the caveats in the documentation: https://pandas.pydata.org/pandas-docs/stable/user_guide/indexing.html#returning-a-view-versus-a-copy\n",
      "  data['Date_Time'][20650] = '2011-03-13'\n"
     ]
    }
   ],
   "source": [
    "data['Date_Time'][3378] = '1975-02-23'\n",
    "data['Date_Time'][7512] = '1985-04-28'\n",
    "data['Date_Time'][20650] = '2011-03-13'"
   ]
  },
  {
   "cell_type": "code",
   "execution_count": 10,
   "id": "b486b6b4",
   "metadata": {},
   "outputs": [
    {
     "data": {
      "text/plain": [
       "Series([], Name: Date_Time, dtype: datetime64[ns])"
      ]
     },
     "execution_count": 10,
     "metadata": {},
     "output_type": "execute_result"
    }
   ],
   "source": [
    "data['Date_Time'].loc[data['Date_Time'].isnull()]"
   ]
  },
  {
   "cell_type": "code",
   "execution_count": 11,
   "id": "3a761a73",
   "metadata": {},
   "outputs": [
    {
     "data": {
      "text/plain": [
       "0     2\n",
       "1     4\n",
       "2     5\n",
       "3     8\n",
       "4     9\n",
       "5    10\n",
       "6    12\n",
       "7    15\n",
       "8    16\n",
       "9    17\n",
       "Name: Date_Time, dtype: int64"
      ]
     },
     "execution_count": 11,
     "metadata": {},
     "output_type": "execute_result"
    }
   ],
   "source": [
    "day_of_month_earthquakes = data['Date_Time'].dt.day\n",
    "day_of_month_earthquakes.head(10)"
   ]
  },
  {
   "cell_type": "code",
   "execution_count": 12,
   "id": "f63a32fa",
   "metadata": {},
   "outputs": [
    {
     "name": "stderr",
     "output_type": "stream",
     "text": [
      "C:\\Users\\ADMIN\\anaconda3\\lib\\site-packages\\seaborn\\distributions.py:2619: FutureWarning: `distplot` is a deprecated function and will be removed in a future version. Please adapt your code to use either `displot` (a figure-level function with similar flexibility) or `histplot` (an axes-level function for histograms).\n",
      "  warnings.warn(msg, FutureWarning)\n"
     ]
    },
    {
     "data": {
      "text/plain": [
       "<AxesSubplot:xlabel='Date_Time'>"
      ]
     },
     "execution_count": 12,
     "metadata": {},
     "output_type": "execute_result"
    },
    {
     "data": {
      "image/png": "[encoded data removed]",
      "text/plain": [
       "<Figure size 432x288 with 1 Axes>"
      ]
     },
     "metadata": {},
     "output_type": "display_data"
    }
   ],
   "source": [
    "# remove na's\n",
    "day_of_month_earthquakes = day_of_month_earthquakes.dropna()\n",
    "\n",
    "# plot the day of the month\n",
    "sns.distplot(day_of_month_earthquakes, kde=False, bins=31)"
   ]
  },
  {
   "cell_type": "code",
   "execution_count": 13,
   "id": "ce4b1b4b",
   "metadata": {},
   "outputs": [
    {
     "data": {
      "text/plain": [
       "array(['Earthquake', 'Nuclear Explosion', 'Explosion', 'Rock Burst'],\n",
       "      dtype=object)"
      ]
     },
     "execution_count": 13,
     "metadata": {},
     "output_type": "execute_result"
    }
   ],
   "source": [
    "data['Type'].unique()"
   ]
  },
  {
   "cell_type": "code",
   "execution_count": 14,
   "id": "3732054f",
   "metadata": {},
   "outputs": [
    {
     "name": "stdout",
     "output_type": "stream",
     "text": [
      "                    Type\n",
      "Earthquake         23232\n",
      "Nuclear Explosion    175\n",
      "Explosion              4\n",
      "Rock Burst             1\n"
     ]
    },
    {
     "data": {
      "text/plain": [
       "<AxesSubplot:>"
      ]
     },
     "execution_count": 14,
     "metadata": {},
     "output_type": "execute_result"
    },
    {
     "data": {
      "image/png": "[encoded data removed]",
      "text/plain": [
       "<Figure size 1080x576 with 1 Axes>"
      ]
     },
     "metadata": {},
     "output_type": "display_data"
    }
   ],
   "source": [
    "Disaster_type= data['Type'].value_counts()\n",
    "df = pd.DataFrame([Disaster_type]).T\n",
    "print (df)\n",
    "df.plot(kind='bar',stacked=True, figsize=(15,8))"
   ]
  },
  {
   "cell_type": "code",
   "execution_count": 15,
   "id": "e1eb705f",
   "metadata": {},
   "outputs": [],
   "source": [
    "data = data[data.Type != 'Nuclear Explosion']\n",
    "data = data[data.Type != 'Explosion']\n",
    "data = data[data.Type != 'Rock Burst']"
   ]
  },
  {
   "cell_type": "code",
   "execution_count": 16,
   "id": "8b7bc9d0",
   "metadata": {},
   "outputs": [
    {
     "data": {
      "text/plain": [
       "array(['Earthquake'], dtype=object)"
      ]
     },
     "execution_count": 16,
     "metadata": {},
     "output_type": "execute_result"
    }
   ],
   "source": [
    "data['Type'].unique()"
   ]
  },
  {
   "cell_type": "markdown",
   "id": "8d4c6d38",
   "metadata": {},
   "source": [
    "# Missing Value Analysis\n",
    "Will drop the column if there are more than 50% values missing"
   ]
  },
  {
   "cell_type": "code",
   "execution_count": 17,
   "id": "f01dcd50",
   "metadata": {},
   "outputs": [
    {
     "data": {
      "text/plain": [
       "<AxesSubplot:>"
      ]
     },
     "execution_count": 17,
     "metadata": {},
     "output_type": "execute_result"
    },
    {
     "data": {
      "image/png": "[encoded data removed]",
      "text/plain": [
       "<Figure size 432x288 with 1 Axes>"
      ]
     },
     "metadata": {},
     "output_type": "display_data"
    }
   ],
   "source": [
    "sns.heatmap(data.isnull(), cbar=False)"
   ]
  },
  {
   "cell_type": "code",
   "execution_count": 18,
   "id": "caebaa60",
   "metadata": {},
   "outputs": [
    {
     "data": {
      "text/html": [
       "<div>\n",
       "<style scoped>\n",
       "    .dataframe tbody tr th:only-of-type {\n",
       "        vertical-align: middle;\n",
       "    }\n",
       "\n",
       "    .dataframe tbody tr th {\n",
       "        vertical-align: top;\n",
       "    }\n",
       "\n",
       "    .dataframe thead th {\n",
       "        text-align: right;\n",
       "    }\n",
       "</style>\n",
       "<table border=\"1\" class=\"dataframe\">\n",
       "  <thead>\n",
       "    <tr style=\"text-align: right;\">\n",
       "      <th></th>\n",
       "      <th>Latitude</th>\n",
       "      <th>Longitude</th>\n",
       "      <th>Depth</th>\n",
       "      <th>Depth Error</th>\n",
       "      <th>Depth Seismic Stations</th>\n",
       "      <th>Magnitude</th>\n",
       "      <th>Magnitude Error</th>\n",
       "      <th>Magnitude Seismic Stations</th>\n",
       "      <th>Azimuthal Gap</th>\n",
       "      <th>Horizontal Distance</th>\n",
       "      <th>Horizontal Error</th>\n",
       "      <th>Root Mean Square</th>\n",
       "    </tr>\n",
       "  </thead>\n",
       "  <tbody>\n",
       "    <tr>\n",
       "      <th>count</th>\n",
       "      <td>23232.000000</td>\n",
       "      <td>23232.000000</td>\n",
       "      <td>23232.000000</td>\n",
       "      <td>4449.000000</td>\n",
       "      <td>7084.000000</td>\n",
       "      <td>23232.000000</td>\n",
       "      <td>315.000000</td>\n",
       "      <td>2460.000000</td>\n",
       "      <td>7286.000000</td>\n",
       "      <td>1595.000000</td>\n",
       "      <td>1144.000000</td>\n",
       "      <td>17247.000000</td>\n",
       "    </tr>\n",
       "    <tr>\n",
       "      <th>mean</th>\n",
       "      <td>1.386383</td>\n",
       "      <td>39.746049</td>\n",
       "      <td>71.313913</td>\n",
       "      <td>4.921323</td>\n",
       "      <td>275.796302</td>\n",
       "      <td>5.882763</td>\n",
       "      <td>0.066197</td>\n",
       "      <td>47.608943</td>\n",
       "      <td>43.807400</td>\n",
       "      <td>4.006932</td>\n",
       "      <td>6.704676</td>\n",
       "      <td>1.023518</td>\n",
       "    </tr>\n",
       "    <tr>\n",
       "      <th>std</th>\n",
       "      <td>29.929060</td>\n",
       "      <td>125.751903</td>\n",
       "      <td>122.968384</td>\n",
       "      <td>4.681354</td>\n",
       "      <td>161.961894</td>\n",
       "      <td>0.424032</td>\n",
       "      <td>0.039592</td>\n",
       "      <td>63.127239</td>\n",
       "      <td>30.947508</td>\n",
       "      <td>5.389051</td>\n",
       "      <td>4.629406</td>\n",
       "      <td>0.186946</td>\n",
       "    </tr>\n",
       "    <tr>\n",
       "      <th>min</th>\n",
       "      <td>-77.080000</td>\n",
       "      <td>-179.997000</td>\n",
       "      <td>-1.100000</td>\n",
       "      <td>0.000000</td>\n",
       "      <td>0.000000</td>\n",
       "      <td>5.500000</td>\n",
       "      <td>0.000000</td>\n",
       "      <td>0.000000</td>\n",
       "      <td>0.000000</td>\n",
       "      <td>0.004505</td>\n",
       "      <td>0.085000</td>\n",
       "      <td>0.000000</td>\n",
       "    </tr>\n",
       "    <tr>\n",
       "      <th>25%</th>\n",
       "      <td>-18.719500</td>\n",
       "      <td>-76.366500</td>\n",
       "      <td>15.000000</td>\n",
       "      <td>1.800000</td>\n",
       "      <td>147.000000</td>\n",
       "      <td>5.600000</td>\n",
       "      <td>0.046000</td>\n",
       "      <td>9.750000</td>\n",
       "      <td>24.100000</td>\n",
       "      <td>0.963300</td>\n",
       "      <td>5.300000</td>\n",
       "      <td>0.900000</td>\n",
       "    </tr>\n",
       "    <tr>\n",
       "      <th>50%</th>\n",
       "      <td>-3.680000</td>\n",
       "      <td>106.349000</td>\n",
       "      <td>33.000000</td>\n",
       "      <td>3.500000</td>\n",
       "      <td>255.000000</td>\n",
       "      <td>5.700000</td>\n",
       "      <td>0.058000</td>\n",
       "      <td>28.000000</td>\n",
       "      <td>36.000000</td>\n",
       "      <td>2.332000</td>\n",
       "      <td>6.700000</td>\n",
       "      <td>1.000000</td>\n",
       "    </tr>\n",
       "    <tr>\n",
       "      <th>75%</th>\n",
       "      <td>24.968500</td>\n",
       "      <td>145.290250</td>\n",
       "      <td>54.800000</td>\n",
       "      <td>6.200000</td>\n",
       "      <td>384.000000</td>\n",
       "      <td>6.000000</td>\n",
       "      <td>0.073000</td>\n",
       "      <td>62.000000</td>\n",
       "      <td>53.775000</td>\n",
       "      <td>4.730000</td>\n",
       "      <td>8.000000</td>\n",
       "      <td>1.130000</td>\n",
       "    </tr>\n",
       "    <tr>\n",
       "      <th>max</th>\n",
       "      <td>86.005000</td>\n",
       "      <td>179.998000</td>\n",
       "      <td>700.000000</td>\n",
       "      <td>91.295000</td>\n",
       "      <td>934.000000</td>\n",
       "      <td>9.100000</td>\n",
       "      <td>0.350000</td>\n",
       "      <td>821.000000</td>\n",
       "      <td>360.000000</td>\n",
       "      <td>37.874000</td>\n",
       "      <td>99.000000</td>\n",
       "      <td>3.220000</td>\n",
       "    </tr>\n",
       "  </tbody>\n",
       "</table>\n",
       "</div>"
      ],
      "text/plain": [
       "           Latitude     Longitude         Depth  Depth Error  \\\n",
       "count  23232.000000  23232.000000  23232.000000  4449.000000   \n",
       "mean       1.386383     39.746049     71.313913     4.921323   \n",
       "std       29.929060    125.751903    122.968384     4.681354   \n",
       "min      -77.080000   -179.997000     -1.100000     0.000000   \n",
       "25%      -18.719500    -76.366500     15.000000     1.800000   \n",
       "50%       -3.680000    106.349000     33.000000     3.500000   \n",
       "75%       24.968500    145.290250     54.800000     6.200000   \n",
       "max       86.005000    179.998000    700.000000    91.295000   \n",
       "\n",
       "       Depth Seismic Stations     Magnitude  Magnitude Error  \\\n",
       "count             7084.000000  23232.000000       315.000000   \n",
       "mean               275.796302      5.882763         0.066197   \n",
       "std                161.961894      0.424032         0.039592   \n",
       "min                  0.000000      5.500000         0.000000   \n",
       "25%                147.000000      5.600000         0.046000   \n",
       "50%                255.000000      5.700000         0.058000   \n",
       "75%                384.000000      6.000000         0.073000   \n",
       "max                934.000000      9.100000         0.350000   \n",
       "\n",
       "       Magnitude Seismic Stations  Azimuthal Gap  Horizontal Distance  \\\n",
       "count                 2460.000000    7286.000000          1595.000000   \n",
       "mean                    47.608943      43.807400             4.006932   \n",
       "std                     63.127239      30.947508             5.389051   \n",
       "min                      0.000000       0.000000             0.004505   \n",
       "25%                      9.750000      24.100000             0.963300   \n",
       "50%                     28.000000      36.000000             2.332000   \n",
       "75%                     62.000000      53.775000             4.730000   \n",
       "max                    821.000000     360.000000            37.874000   \n",
       "\n",
       "       Horizontal Error  Root Mean Square  \n",
       "count       1144.000000      17247.000000  \n",
       "mean           6.704676          1.023518  \n",
       "std            4.629406          0.186946  \n",
       "min            0.085000          0.000000  \n",
       "25%            5.300000          0.900000  \n",
       "50%            6.700000          1.000000  \n",
       "75%            8.000000          1.130000  \n",
       "max           99.000000          3.220000  "
      ]
     },
     "execution_count": 18,
     "metadata": {},
     "output_type": "execute_result"
    }
   ],
   "source": [
    "data.describe()"
   ]
  },
  {
   "cell_type": "code",
   "execution_count": 19,
   "id": "792f1452",
   "metadata": {},
   "outputs": [],
   "source": [
    "data.drop(['Depth Error','Depth Seismic Stations','Magnitude Error','Magnitude Seismic Stations','Azimuthal Gap','Horizontal Distance','Horizontal Error'], axis = 1, inplace = True)"
   ]
  },
  {
   "cell_type": "code",
   "execution_count": 20,
   "id": "ad8f9e3e",
   "metadata": {},
   "outputs": [
    {
     "data": {
      "text/html": [
       "<div>\n",
       "<style scoped>\n",
       "    .dataframe tbody tr th:only-of-type {\n",
       "        vertical-align: middle;\n",
       "    }\n",
       "\n",
       "    .dataframe tbody tr th {\n",
       "        vertical-align: top;\n",
       "    }\n",
       "\n",
       "    .dataframe thead th {\n",
       "        text-align: right;\n",
       "    }\n",
       "</style>\n",
       "<table border=\"1\" class=\"dataframe\">\n",
       "  <thead>\n",
       "    <tr style=\"text-align: right;\">\n",
       "      <th></th>\n",
       "      <th>Date_Time</th>\n",
       "      <th>Latitude</th>\n",
       "      <th>Longitude</th>\n",
       "      <th>Type</th>\n",
       "      <th>Depth</th>\n",
       "      <th>Magnitude</th>\n",
       "      <th>Magnitude Type</th>\n",
       "      <th>Root Mean Square</th>\n",
       "      <th>ID</th>\n",
       "      <th>Source</th>\n",
       "      <th>Location Source</th>\n",
       "      <th>Magnitude Source</th>\n",
       "      <th>Status</th>\n",
       "    </tr>\n",
       "  </thead>\n",
       "  <tbody>\n",
       "    <tr>\n",
       "      <th>0</th>\n",
       "      <td>1965-01-02 13:44:18</td>\n",
       "      <td>19.246</td>\n",
       "      <td>145.616</td>\n",
       "      <td>Earthquake</td>\n",
       "      <td>131.6</td>\n",
       "      <td>6.0</td>\n",
       "      <td>MW</td>\n",
       "      <td>NaN</td>\n",
       "      <td>ISCGEM860706</td>\n",
       "      <td>ISCGEM</td>\n",
       "      <td>ISCGEM</td>\n",
       "      <td>ISCGEM</td>\n",
       "      <td>Automatic</td>\n",
       "    </tr>\n",
       "    <tr>\n",
       "      <th>1</th>\n",
       "      <td>1965-01-04 11:29:49</td>\n",
       "      <td>1.863</td>\n",
       "      <td>127.352</td>\n",
       "      <td>Earthquake</td>\n",
       "      <td>80.0</td>\n",
       "      <td>5.8</td>\n",
       "      <td>MW</td>\n",
       "      <td>NaN</td>\n",
       "      <td>ISCGEM860737</td>\n",
       "      <td>ISCGEM</td>\n",
       "      <td>ISCGEM</td>\n",
       "      <td>ISCGEM</td>\n",
       "      <td>Automatic</td>\n",
       "    </tr>\n",
       "    <tr>\n",
       "      <th>2</th>\n",
       "      <td>1965-01-05 18:05:58</td>\n",
       "      <td>-20.579</td>\n",
       "      <td>-173.972</td>\n",
       "      <td>Earthquake</td>\n",
       "      <td>20.0</td>\n",
       "      <td>6.2</td>\n",
       "      <td>MW</td>\n",
       "      <td>NaN</td>\n",
       "      <td>ISCGEM860762</td>\n",
       "      <td>ISCGEM</td>\n",
       "      <td>ISCGEM</td>\n",
       "      <td>ISCGEM</td>\n",
       "      <td>Automatic</td>\n",
       "    </tr>\n",
       "    <tr>\n",
       "      <th>3</th>\n",
       "      <td>1965-01-08 18:49:43</td>\n",
       "      <td>-59.076</td>\n",
       "      <td>-23.557</td>\n",
       "      <td>Earthquake</td>\n",
       "      <td>15.0</td>\n",
       "      <td>5.8</td>\n",
       "      <td>MW</td>\n",
       "      <td>NaN</td>\n",
       "      <td>ISCGEM860856</td>\n",
       "      <td>ISCGEM</td>\n",
       "      <td>ISCGEM</td>\n",
       "      <td>ISCGEM</td>\n",
       "      <td>Automatic</td>\n",
       "    </tr>\n",
       "    <tr>\n",
       "      <th>4</th>\n",
       "      <td>1965-01-09 13:32:50</td>\n",
       "      <td>11.938</td>\n",
       "      <td>126.427</td>\n",
       "      <td>Earthquake</td>\n",
       "      <td>15.0</td>\n",
       "      <td>5.8</td>\n",
       "      <td>MW</td>\n",
       "      <td>NaN</td>\n",
       "      <td>ISCGEM860890</td>\n",
       "      <td>ISCGEM</td>\n",
       "      <td>ISCGEM</td>\n",
       "      <td>ISCGEM</td>\n",
       "      <td>Automatic</td>\n",
       "    </tr>\n",
       "  </tbody>\n",
       "</table>\n",
       "</div>"
      ],
      "text/plain": [
       "            Date_Time  Latitude  Longitude        Type  Depth  Magnitude  \\\n",
       "0 1965-01-02 13:44:18    19.246    145.616  Earthquake  131.6        6.0   \n",
       "1 1965-01-04 11:29:49     1.863    127.352  Earthquake   80.0        5.8   \n",
       "2 1965-01-05 18:05:58   -20.579   -173.972  Earthquake   20.0        6.2   \n",
       "3 1965-01-08 18:49:43   -59.076    -23.557  Earthquake   15.0        5.8   \n",
       "4 1965-01-09 13:32:50    11.938    126.427  Earthquake   15.0        5.8   \n",
       "\n",
       "  Magnitude Type  Root Mean Square            ID  Source Location Source  \\\n",
       "0             MW               NaN  ISCGEM860706  ISCGEM          ISCGEM   \n",
       "1             MW               NaN  ISCGEM860737  ISCGEM          ISCGEM   \n",
       "2             MW               NaN  ISCGEM860762  ISCGEM          ISCGEM   \n",
       "3             MW               NaN  ISCGEM860856  ISCGEM          ISCGEM   \n",
       "4             MW               NaN  ISCGEM860890  ISCGEM          ISCGEM   \n",
       "\n",
       "  Magnitude Source     Status  \n",
       "0           ISCGEM  Automatic  \n",
       "1           ISCGEM  Automatic  \n",
       "2           ISCGEM  Automatic  \n",
       "3           ISCGEM  Automatic  \n",
       "4           ISCGEM  Automatic  "
      ]
     },
     "execution_count": 20,
     "metadata": {},
     "output_type": "execute_result"
    }
   ],
   "source": [
    "data.head()"
   ]
  },
  {
   "cell_type": "code",
   "execution_count": 21,
   "id": "418e23f5",
   "metadata": {},
   "outputs": [
    {
     "data": {
      "text/plain": [
       "<AxesSubplot:>"
      ]
     },
     "execution_count": 21,
     "metadata": {},
     "output_type": "execute_result"
    },
    {
     "data": {
      "image/png": "[encoded data removed]",
      "text/plain": [
       "<Figure size 432x288 with 1 Axes>"
      ]
     },
     "metadata": {},
     "output_type": "display_data"
    }
   ],
   "source": [
    "sns.heatmap(data.isnull(), cbar=False)"
   ]
  },
  {
   "cell_type": "code",
   "execution_count": 22,
   "id": "a3d99b6a",
   "metadata": {},
   "outputs": [
    {
     "data": {
      "text/plain": [
       "3"
      ]
     },
     "execution_count": 22,
     "metadata": {},
     "output_type": "execute_result"
    }
   ],
   "source": [
    "data['Magnitude Type'].isnull().sum()"
   ]
  },
  {
   "cell_type": "code",
   "execution_count": 23,
   "id": "cf8852cd",
   "metadata": {},
   "outputs": [
    {
     "data": {
      "text/plain": [
       "6703    NaN\n",
       "7294    NaN\n",
       "7919    NaN\n",
       "Name: Magnitude Type, dtype: object"
      ]
     },
     "execution_count": 23,
     "metadata": {},
     "output_type": "execute_result"
    }
   ],
   "source": [
    "data['Magnitude Type'].loc[data['Magnitude Type'].isnull()]"
   ]
  },
  {
   "cell_type": "code",
   "execution_count": 24,
   "id": "b81c9e02",
   "metadata": {},
   "outputs": [],
   "source": [
    "data = data.drop(data.index[[6703,7294,7919]])"
   ]
  },
  {
   "cell_type": "code",
   "execution_count": 25,
   "id": "55152f6d",
   "metadata": {},
   "outputs": [
    {
     "data": {
      "text/plain": [
       "3"
      ]
     },
     "execution_count": 25,
     "metadata": {},
     "output_type": "execute_result"
    }
   ],
   "source": [
    "data['Magnitude Type'].isnull().sum()"
   ]
  },
  {
   "cell_type": "code",
   "execution_count": 26,
   "id": "d763f7df",
   "metadata": {},
   "outputs": [
    {
     "data": {
      "text/html": [
       "<div>\n",
       "<style scoped>\n",
       "    .dataframe tbody tr th:only-of-type {\n",
       "        vertical-align: middle;\n",
       "    }\n",
       "\n",
       "    .dataframe tbody tr th {\n",
       "        vertical-align: top;\n",
       "    }\n",
       "\n",
       "    .dataframe thead th {\n",
       "        text-align: right;\n",
       "    }\n",
       "</style>\n",
       "<table border=\"1\" class=\"dataframe\">\n",
       "  <thead>\n",
       "    <tr style=\"text-align: right;\">\n",
       "      <th></th>\n",
       "      <th>Magnitude</th>\n",
       "    </tr>\n",
       "    <tr>\n",
       "      <th>Type</th>\n",
       "      <th></th>\n",
       "    </tr>\n",
       "  </thead>\n",
       "  <tbody>\n",
       "    <tr>\n",
       "      <th>Earthquake</th>\n",
       "      <td>23229</td>\n",
       "    </tr>\n",
       "  </tbody>\n",
       "</table>\n",
       "</div>"
      ],
      "text/plain": [
       "            Magnitude\n",
       "Type                 \n",
       "Earthquake      23229"
      ]
     },
     "execution_count": 26,
     "metadata": {},
     "output_type": "execute_result"
    }
   ],
   "source": [
    "data.pivot_table(index = \"Type\", values = \"Magnitude\", aggfunc=len)"
   ]
  },
  {
   "cell_type": "code",
   "execution_count": 27,
   "id": "b1ee6cff",
   "metadata": {},
   "outputs": [
    {
     "name": "stdout",
     "output_type": "stream",
     "text": [
      "<class 'pandas.core.frame.DataFrame'>\n",
      "Int64Index: 23229 entries, 0 to 23411\n",
      "Data columns (total 13 columns):\n",
      " #   Column            Non-Null Count  Dtype         \n",
      "---  ------            --------------  -----         \n",
      " 0   Date_Time         23229 non-null  datetime64[ns]\n",
      " 1   Latitude          23229 non-null  float64       \n",
      " 2   Longitude         23229 non-null  float64       \n",
      " 3   Type              23229 non-null  object        \n",
      " 4   Depth             23229 non-null  float64       \n",
      " 5   Magnitude         23229 non-null  float64       \n",
      " 6   Magnitude Type    23226 non-null  object        \n",
      " 7   Root Mean Square  17244 non-null  float64       \n",
      " 8   ID                23229 non-null  object        \n",
      " 9   Source            23229 non-null  object        \n",
      " 10  Location Source   23229 non-null  object        \n",
      " 11  Magnitude Source  23229 non-null  object        \n",
      " 12  Status            23229 non-null  object        \n",
      "dtypes: datetime64[ns](1), float64(5), object(7)\n",
      "memory usage: 2.5+ MB\n"
     ]
    }
   ],
   "source": [
    "data.info()"
   ]
  },
  {
   "cell_type": "code",
   "execution_count": 28,
   "id": "1aebd0c8",
   "metadata": {},
   "outputs": [
    {
     "data": {
      "text/html": [
       "<div>\n",
       "<style scoped>\n",
       "    .dataframe tbody tr th:only-of-type {\n",
       "        vertical-align: middle;\n",
       "    }\n",
       "\n",
       "    .dataframe tbody tr th {\n",
       "        vertical-align: top;\n",
       "    }\n",
       "\n",
       "    .dataframe thead th {\n",
       "        text-align: right;\n",
       "    }\n",
       "</style>\n",
       "<table border=\"1\" class=\"dataframe\">\n",
       "  <thead>\n",
       "    <tr style=\"text-align: right;\">\n",
       "      <th></th>\n",
       "      <th>Latitude</th>\n",
       "      <th>Longitude</th>\n",
       "      <th>Depth</th>\n",
       "      <th>Magnitude</th>\n",
       "      <th>Root Mean Square</th>\n",
       "    </tr>\n",
       "  </thead>\n",
       "  <tbody>\n",
       "    <tr>\n",
       "      <th>count</th>\n",
       "      <td>23229.000000</td>\n",
       "      <td>23229.000000</td>\n",
       "      <td>23229.000000</td>\n",
       "      <td>23229.000000</td>\n",
       "      <td>17244.000000</td>\n",
       "    </tr>\n",
       "    <tr>\n",
       "      <th>mean</th>\n",
       "      <td>1.389422</td>\n",
       "      <td>39.755390</td>\n",
       "      <td>71.319185</td>\n",
       "      <td>5.882760</td>\n",
       "      <td>1.023510</td>\n",
       "    </tr>\n",
       "    <tr>\n",
       "      <th>std</th>\n",
       "      <td>29.929488</td>\n",
       "      <td>125.747606</td>\n",
       "      <td>122.975427</td>\n",
       "      <td>0.424022</td>\n",
       "      <td>0.186961</td>\n",
       "    </tr>\n",
       "    <tr>\n",
       "      <th>min</th>\n",
       "      <td>-77.080000</td>\n",
       "      <td>-179.997000</td>\n",
       "      <td>-1.100000</td>\n",
       "      <td>5.500000</td>\n",
       "      <td>0.000000</td>\n",
       "    </tr>\n",
       "    <tr>\n",
       "      <th>25%</th>\n",
       "      <td>-18.718000</td>\n",
       "      <td>-76.362000</td>\n",
       "      <td>15.000000</td>\n",
       "      <td>5.600000</td>\n",
       "      <td>0.900000</td>\n",
       "    </tr>\n",
       "    <tr>\n",
       "      <th>50%</th>\n",
       "      <td>-3.674000</td>\n",
       "      <td>106.371000</td>\n",
       "      <td>33.000000</td>\n",
       "      <td>5.700000</td>\n",
       "      <td>1.000000</td>\n",
       "    </tr>\n",
       "    <tr>\n",
       "      <th>75%</th>\n",
       "      <td>24.970000</td>\n",
       "      <td>145.288000</td>\n",
       "      <td>54.800000</td>\n",
       "      <td>6.000000</td>\n",
       "      <td>1.130000</td>\n",
       "    </tr>\n",
       "    <tr>\n",
       "      <th>max</th>\n",
       "      <td>86.005000</td>\n",
       "      <td>179.998000</td>\n",
       "      <td>700.000000</td>\n",
       "      <td>9.100000</td>\n",
       "      <td>3.220000</td>\n",
       "    </tr>\n",
       "  </tbody>\n",
       "</table>\n",
       "</div>"
      ],
      "text/plain": [
       "           Latitude     Longitude         Depth     Magnitude  \\\n",
       "count  23229.000000  23229.000000  23229.000000  23229.000000   \n",
       "mean       1.389422     39.755390     71.319185      5.882760   \n",
       "std       29.929488    125.747606    122.975427      0.424022   \n",
       "min      -77.080000   -179.997000     -1.100000      5.500000   \n",
       "25%      -18.718000    -76.362000     15.000000      5.600000   \n",
       "50%       -3.674000    106.371000     33.000000      5.700000   \n",
       "75%       24.970000    145.288000     54.800000      6.000000   \n",
       "max       86.005000    179.998000    700.000000      9.100000   \n",
       "\n",
       "       Root Mean Square  \n",
       "count      17244.000000  \n",
       "mean           1.023510  \n",
       "std            0.186961  \n",
       "min            0.000000  \n",
       "25%            0.900000  \n",
       "50%            1.000000  \n",
       "75%            1.130000  \n",
       "max            3.220000  "
      ]
     },
     "execution_count": 28,
     "metadata": {},
     "output_type": "execute_result"
    }
   ],
   "source": [
    "data.describe()"
   ]
  },
  {
   "cell_type": "code",
   "execution_count": 29,
   "id": "f5b6274d",
   "metadata": {},
   "outputs": [
    {
     "name": "stderr",
     "output_type": "stream",
     "text": [
      "C:\\Users\\ADMIN\\AppData\\Local\\Temp/ipykernel_14556/1474580016.py:1: FutureWarning: DataFrame.mean and DataFrame.median with numeric_only=None will include datetime64 and datetime64tz columns in a future version.\n",
      "  data.fillna(data.mean(), inplace=True)\n",
      "C:\\Users\\ADMIN\\AppData\\Local\\Temp/ipykernel_14556/1474580016.py:1: FutureWarning: Dropping of nuisance columns in DataFrame reductions (with 'numeric_only=None') is deprecated; in a future version this will raise TypeError.  Select only valid columns before calling the reduction.\n",
      "  data.fillna(data.mean(), inplace=True)\n"
     ]
    }
   ],
   "source": [
    "data.fillna(data.mean(), inplace=True)"
   ]
  },
  {
   "cell_type": "code",
   "execution_count": 30,
   "id": "8c28c6f6",
   "metadata": {},
   "outputs": [
    {
     "data": {
      "text/plain": [
       "<AxesSubplot:>"
      ]
     },
     "execution_count": 30,
     "metadata": {},
     "output_type": "execute_result"
    },
    {
     "data": {
      "image/png": "[encoded data removed]",
      "text/plain": [
       "<Figure size 432x288 with 1 Axes>"
      ]
     },
     "metadata": {},
     "output_type": "display_data"
    }
   ],
   "source": [
    "sns.heatmap(data.isnull(), cbar=False)"
   ]
  },
  {
   "cell_type": "markdown",
   "id": "fbee0aab",
   "metadata": {},
   "source": [
    "# Outlier Analysis¶\n",
    "Only Depth is the value on which the Outlier Analysis will be beneficial as all other values have to be kept for the analysis"
   ]
  },
  {
   "cell_type": "code",
   "execution_count": 31,
   "id": "9cc3d791",
   "metadata": {},
   "outputs": [
    {
     "data": {
      "image/png": "[encoded data removed]",
      "text/plain": [
       "<Figure size 432x288 with 1 Axes>"
      ]
     },
     "metadata": {},
     "output_type": "display_data"
    }
   ],
   "source": [
    "var = 'Magnitude'\n",
    "fig = sns.boxplot(x=var, data=data)"
   ]
  },
  {
   "cell_type": "code",
   "execution_count": 32,
   "id": "5e5cdf1c",
   "metadata": {},
   "outputs": [
    {
     "data": {
      "text/html": [
       "<div>\n",
       "<style scoped>\n",
       "    .dataframe tbody tr th:only-of-type {\n",
       "        vertical-align: middle;\n",
       "    }\n",
       "\n",
       "    .dataframe tbody tr th {\n",
       "        vertical-align: top;\n",
       "    }\n",
       "\n",
       "    .dataframe thead th {\n",
       "        text-align: right;\n",
       "    }\n",
       "</style>\n",
       "<table border=\"1\" class=\"dataframe\">\n",
       "  <thead>\n",
       "    <tr style=\"text-align: right;\">\n",
       "      <th></th>\n",
       "      <th>Date_Time</th>\n",
       "      <th>Latitude</th>\n",
       "      <th>Longitude</th>\n",
       "      <th>Type</th>\n",
       "      <th>Depth</th>\n",
       "      <th>Magnitude</th>\n",
       "      <th>Magnitude Type</th>\n",
       "      <th>Root Mean Square</th>\n",
       "      <th>ID</th>\n",
       "      <th>Source</th>\n",
       "      <th>Location Source</th>\n",
       "      <th>Magnitude Source</th>\n",
       "      <th>Status</th>\n",
       "    </tr>\n",
       "  </thead>\n",
       "  <tbody>\n",
       "    <tr>\n",
       "      <th>0</th>\n",
       "      <td>1965-01-02 13:44:18</td>\n",
       "      <td>19.246</td>\n",
       "      <td>145.616</td>\n",
       "      <td>Earthquake</td>\n",
       "      <td>131.6</td>\n",
       "      <td>6.0</td>\n",
       "      <td>MW</td>\n",
       "      <td>1.02351</td>\n",
       "      <td>ISCGEM860706</td>\n",
       "      <td>ISCGEM</td>\n",
       "      <td>ISCGEM</td>\n",
       "      <td>ISCGEM</td>\n",
       "      <td>Automatic</td>\n",
       "    </tr>\n",
       "    <tr>\n",
       "      <th>1</th>\n",
       "      <td>1965-01-04 11:29:49</td>\n",
       "      <td>1.863</td>\n",
       "      <td>127.352</td>\n",
       "      <td>Earthquake</td>\n",
       "      <td>80.0</td>\n",
       "      <td>5.8</td>\n",
       "      <td>MW</td>\n",
       "      <td>1.02351</td>\n",
       "      <td>ISCGEM860737</td>\n",
       "      <td>ISCGEM</td>\n",
       "      <td>ISCGEM</td>\n",
       "      <td>ISCGEM</td>\n",
       "      <td>Automatic</td>\n",
       "    </tr>\n",
       "    <tr>\n",
       "      <th>2</th>\n",
       "      <td>1965-01-05 18:05:58</td>\n",
       "      <td>-20.579</td>\n",
       "      <td>-173.972</td>\n",
       "      <td>Earthquake</td>\n",
       "      <td>20.0</td>\n",
       "      <td>6.2</td>\n",
       "      <td>MW</td>\n",
       "      <td>1.02351</td>\n",
       "      <td>ISCGEM860762</td>\n",
       "      <td>ISCGEM</td>\n",
       "      <td>ISCGEM</td>\n",
       "      <td>ISCGEM</td>\n",
       "      <td>Automatic</td>\n",
       "    </tr>\n",
       "    <tr>\n",
       "      <th>3</th>\n",
       "      <td>1965-01-08 18:49:43</td>\n",
       "      <td>-59.076</td>\n",
       "      <td>-23.557</td>\n",
       "      <td>Earthquake</td>\n",
       "      <td>15.0</td>\n",
       "      <td>5.8</td>\n",
       "      <td>MW</td>\n",
       "      <td>1.02351</td>\n",
       "      <td>ISCGEM860856</td>\n",
       "      <td>ISCGEM</td>\n",
       "      <td>ISCGEM</td>\n",
       "      <td>ISCGEM</td>\n",
       "      <td>Automatic</td>\n",
       "    </tr>\n",
       "    <tr>\n",
       "      <th>4</th>\n",
       "      <td>1965-01-09 13:32:50</td>\n",
       "      <td>11.938</td>\n",
       "      <td>126.427</td>\n",
       "      <td>Earthquake</td>\n",
       "      <td>15.0</td>\n",
       "      <td>5.8</td>\n",
       "      <td>MW</td>\n",
       "      <td>1.02351</td>\n",
       "      <td>ISCGEM860890</td>\n",
       "      <td>ISCGEM</td>\n",
       "      <td>ISCGEM</td>\n",
       "      <td>ISCGEM</td>\n",
       "      <td>Automatic</td>\n",
       "    </tr>\n",
       "  </tbody>\n",
       "</table>\n",
       "</div>"
      ],
      "text/plain": [
       "            Date_Time  Latitude  Longitude        Type  Depth  Magnitude  \\\n",
       "0 1965-01-02 13:44:18    19.246    145.616  Earthquake  131.6        6.0   \n",
       "1 1965-01-04 11:29:49     1.863    127.352  Earthquake   80.0        5.8   \n",
       "2 1965-01-05 18:05:58   -20.579   -173.972  Earthquake   20.0        6.2   \n",
       "3 1965-01-08 18:49:43   -59.076    -23.557  Earthquake   15.0        5.8   \n",
       "4 1965-01-09 13:32:50    11.938    126.427  Earthquake   15.0        5.8   \n",
       "\n",
       "  Magnitude Type  Root Mean Square            ID  Source Location Source  \\\n",
       "0             MW           1.02351  ISCGEM860706  ISCGEM          ISCGEM   \n",
       "1             MW           1.02351  ISCGEM860737  ISCGEM          ISCGEM   \n",
       "2             MW           1.02351  ISCGEM860762  ISCGEM          ISCGEM   \n",
       "3             MW           1.02351  ISCGEM860856  ISCGEM          ISCGEM   \n",
       "4             MW           1.02351  ISCGEM860890  ISCGEM          ISCGEM   \n",
       "\n",
       "  Magnitude Source     Status  \n",
       "0           ISCGEM  Automatic  \n",
       "1           ISCGEM  Automatic  \n",
       "2           ISCGEM  Automatic  \n",
       "3           ISCGEM  Automatic  \n",
       "4           ISCGEM  Automatic  "
      ]
     },
     "execution_count": 32,
     "metadata": {},
     "output_type": "execute_result"
    }
   ],
   "source": [
    "data.head()"
   ]
  },
  {
   "cell_type": "code",
   "execution_count": 33,
   "id": "3c3accee",
   "metadata": {},
   "outputs": [],
   "source": [
    "from scipy import stats\n",
    "#Now to find the total number of outliers, we have kept the data within 3 Standard Deviation in the \"new\" dataset "
   ]
  },
  {
   "cell_type": "code",
   "execution_count": 34,
   "id": "f3a1804d",
   "metadata": {},
   "outputs": [
    {
     "data": {
      "text/html": [
       "<div>\n",
       "<style scoped>\n",
       "    .dataframe tbody tr th:only-of-type {\n",
       "        vertical-align: middle;\n",
       "    }\n",
       "\n",
       "    .dataframe tbody tr th {\n",
       "        vertical-align: top;\n",
       "    }\n",
       "\n",
       "    .dataframe thead th {\n",
       "        text-align: right;\n",
       "    }\n",
       "</style>\n",
       "<table border=\"1\" class=\"dataframe\">\n",
       "  <thead>\n",
       "    <tr style=\"text-align: right;\">\n",
       "      <th></th>\n",
       "      <th>Date_Time</th>\n",
       "      <th>Latitude</th>\n",
       "      <th>Longitude</th>\n",
       "      <th>Type</th>\n",
       "      <th>Depth</th>\n",
       "      <th>Magnitude</th>\n",
       "      <th>Magnitude Type</th>\n",
       "      <th>Root Mean Square</th>\n",
       "      <th>ID</th>\n",
       "      <th>Source</th>\n",
       "      <th>Location Source</th>\n",
       "      <th>Magnitude Source</th>\n",
       "      <th>Status</th>\n",
       "    </tr>\n",
       "  </thead>\n",
       "  <tbody>\n",
       "    <tr>\n",
       "      <th>11</th>\n",
       "      <td>1965-01-24 00:11:17</td>\n",
       "      <td>-2.6080</td>\n",
       "      <td>125.9520</td>\n",
       "      <td>Earthquake</td>\n",
       "      <td>20.00</td>\n",
       "      <td>8.2</td>\n",
       "      <td>MW</td>\n",
       "      <td>1.02351</td>\n",
       "      <td>ISCGEM861299</td>\n",
       "      <td>ISCGEM</td>\n",
       "      <td>ISCGEM</td>\n",
       "      <td>ISCGEM</td>\n",
       "      <td>Automatic</td>\n",
       "    </tr>\n",
       "    <tr>\n",
       "      <th>16</th>\n",
       "      <td>1965-02-04 05:01:22</td>\n",
       "      <td>51.2510</td>\n",
       "      <td>178.7150</td>\n",
       "      <td>Earthquake</td>\n",
       "      <td>30.30</td>\n",
       "      <td>8.7</td>\n",
       "      <td>MW</td>\n",
       "      <td>1.02351</td>\n",
       "      <td>OFFICIAL19650204050122_30</td>\n",
       "      <td>OFFICIAL</td>\n",
       "      <td>ISCGEM</td>\n",
       "      <td>OFFICIAL</td>\n",
       "      <td>Automatic</td>\n",
       "    </tr>\n",
       "    <tr>\n",
       "      <th>26</th>\n",
       "      <td>1965-02-04 08:40:44</td>\n",
       "      <td>51.4430</td>\n",
       "      <td>179.6050</td>\n",
       "      <td>Earthquake</td>\n",
       "      <td>30.00</td>\n",
       "      <td>7.3</td>\n",
       "      <td>MW</td>\n",
       "      <td>1.02351</td>\n",
       "      <td>ISCGEM859264</td>\n",
       "      <td>ISCGEM</td>\n",
       "      <td>ISCGEM</td>\n",
       "      <td>ISCGEM</td>\n",
       "      <td>Automatic</td>\n",
       "    </tr>\n",
       "    <tr>\n",
       "      <th>87</th>\n",
       "      <td>1965-03-14 15:53:07</td>\n",
       "      <td>36.4050</td>\n",
       "      <td>70.7240</td>\n",
       "      <td>Earthquake</td>\n",
       "      <td>207.80</td>\n",
       "      <td>7.4</td>\n",
       "      <td>MW</td>\n",
       "      <td>1.02351</td>\n",
       "      <td>ISCGEM858598</td>\n",
       "      <td>ISCGEM</td>\n",
       "      <td>ISCGEM</td>\n",
       "      <td>ISCGEM</td>\n",
       "      <td>Automatic</td>\n",
       "    </tr>\n",
       "    <tr>\n",
       "      <th>100</th>\n",
       "      <td>1965-03-28 16:33:16</td>\n",
       "      <td>-32.5220</td>\n",
       "      <td>-71.2330</td>\n",
       "      <td>Earthquake</td>\n",
       "      <td>70.00</td>\n",
       "      <td>7.4</td>\n",
       "      <td>MW</td>\n",
       "      <td>1.02351</td>\n",
       "      <td>ISCGEM858940</td>\n",
       "      <td>ISCGEM</td>\n",
       "      <td>ISCGEM</td>\n",
       "      <td>ISCGEM</td>\n",
       "      <td>Automatic</td>\n",
       "    </tr>\n",
       "    <tr>\n",
       "      <th>...</th>\n",
       "      <td>...</td>\n",
       "      <td>...</td>\n",
       "      <td>...</td>\n",
       "      <td>...</td>\n",
       "      <td>...</td>\n",
       "      <td>...</td>\n",
       "      <td>...</td>\n",
       "      <td>...</td>\n",
       "      <td>...</td>\n",
       "      <td>...</td>\n",
       "      <td>...</td>\n",
       "      <td>...</td>\n",
       "      <td>...</td>\n",
       "    </tr>\n",
       "    <tr>\n",
       "      <th>23213</th>\n",
       "      <td>2016-08-19 07:32:23</td>\n",
       "      <td>-55.2852</td>\n",
       "      <td>-31.8766</td>\n",
       "      <td>Earthquake</td>\n",
       "      <td>10.00</td>\n",
       "      <td>7.4</td>\n",
       "      <td>MWW</td>\n",
       "      <td>0.79000</td>\n",
       "      <td>US10006EXL</td>\n",
       "      <td>US</td>\n",
       "      <td>US</td>\n",
       "      <td>US</td>\n",
       "      <td>Reviewed</td>\n",
       "    </tr>\n",
       "    <tr>\n",
       "      <th>23326</th>\n",
       "      <td>2016-11-13 11:02:56</td>\n",
       "      <td>-42.7358</td>\n",
       "      <td>173.0499</td>\n",
       "      <td>Earthquake</td>\n",
       "      <td>15.22</td>\n",
       "      <td>7.8</td>\n",
       "      <td>MWW</td>\n",
       "      <td>0.57000</td>\n",
       "      <td>US1000778I</td>\n",
       "      <td>US</td>\n",
       "      <td>US</td>\n",
       "      <td>US</td>\n",
       "      <td>Reviewed</td>\n",
       "    </tr>\n",
       "    <tr>\n",
       "      <th>23369</th>\n",
       "      <td>2016-12-08 17:38:46</td>\n",
       "      <td>-10.6787</td>\n",
       "      <td>161.3214</td>\n",
       "      <td>Earthquake</td>\n",
       "      <td>40.00</td>\n",
       "      <td>7.8</td>\n",
       "      <td>MWW</td>\n",
       "      <td>0.87000</td>\n",
       "      <td>US20007Z80</td>\n",
       "      <td>US</td>\n",
       "      <td>US</td>\n",
       "      <td>US</td>\n",
       "      <td>Reviewed</td>\n",
       "    </tr>\n",
       "    <tr>\n",
       "      <th>23386</th>\n",
       "      <td>2016-12-17 10:51:10</td>\n",
       "      <td>-4.5049</td>\n",
       "      <td>153.5216</td>\n",
       "      <td>Earthquake</td>\n",
       "      <td>94.54</td>\n",
       "      <td>7.9</td>\n",
       "      <td>MWW</td>\n",
       "      <td>0.97000</td>\n",
       "      <td>US200081V8</td>\n",
       "      <td>US</td>\n",
       "      <td>US</td>\n",
       "      <td>US</td>\n",
       "      <td>Reviewed</td>\n",
       "    </tr>\n",
       "    <tr>\n",
       "      <th>23403</th>\n",
       "      <td>2016-12-25 14:22:27</td>\n",
       "      <td>-43.4029</td>\n",
       "      <td>-73.9395</td>\n",
       "      <td>Earthquake</td>\n",
       "      <td>38.00</td>\n",
       "      <td>7.6</td>\n",
       "      <td>MWW</td>\n",
       "      <td>0.80000</td>\n",
       "      <td>US10007MN3</td>\n",
       "      <td>US</td>\n",
       "      <td>US</td>\n",
       "      <td>US</td>\n",
       "      <td>Reviewed</td>\n",
       "    </tr>\n",
       "  </tbody>\n",
       "</table>\n",
       "<p>447 rows × 13 columns</p>\n",
       "</div>"
      ],
      "text/plain": [
       "                Date_Time  Latitude  Longitude        Type   Depth  Magnitude  \\\n",
       "11    1965-01-24 00:11:17   -2.6080   125.9520  Earthquake   20.00        8.2   \n",
       "16    1965-02-04 05:01:22   51.2510   178.7150  Earthquake   30.30        8.7   \n",
       "26    1965-02-04 08:40:44   51.4430   179.6050  Earthquake   30.00        7.3   \n",
       "87    1965-03-14 15:53:07   36.4050    70.7240  Earthquake  207.80        7.4   \n",
       "100   1965-03-28 16:33:16  -32.5220   -71.2330  Earthquake   70.00        7.4   \n",
       "...                   ...       ...        ...         ...     ...        ...   \n",
       "23213 2016-08-19 07:32:23  -55.2852   -31.8766  Earthquake   10.00        7.4   \n",
       "23326 2016-11-13 11:02:56  -42.7358   173.0499  Earthquake   15.22        7.8   \n",
       "23369 2016-12-08 17:38:46  -10.6787   161.3214  Earthquake   40.00        7.8   \n",
       "23386 2016-12-17 10:51:10   -4.5049   153.5216  Earthquake   94.54        7.9   \n",
       "23403 2016-12-25 14:22:27  -43.4029   -73.9395  Earthquake   38.00        7.6   \n",
       "\n",
       "      Magnitude Type  Root Mean Square                         ID    Source  \\\n",
       "11                MW           1.02351               ISCGEM861299    ISCGEM   \n",
       "16                MW           1.02351  OFFICIAL19650204050122_30  OFFICIAL   \n",
       "26                MW           1.02351               ISCGEM859264    ISCGEM   \n",
       "87                MW           1.02351               ISCGEM858598    ISCGEM   \n",
       "100               MW           1.02351               ISCGEM858940    ISCGEM   \n",
       "...              ...               ...                        ...       ...   \n",
       "23213            MWW           0.79000                 US10006EXL        US   \n",
       "23326            MWW           0.57000                 US1000778I        US   \n",
       "23369            MWW           0.87000                 US20007Z80        US   \n",
       "23386            MWW           0.97000                 US200081V8        US   \n",
       "23403            MWW           0.80000                 US10007MN3        US   \n",
       "\n",
       "      Location Source Magnitude Source     Status  \n",
       "11             ISCGEM           ISCGEM  Automatic  \n",
       "16             ISCGEM         OFFICIAL  Automatic  \n",
       "26             ISCGEM           ISCGEM  Automatic  \n",
       "87             ISCGEM           ISCGEM  Automatic  \n",
       "100            ISCGEM           ISCGEM  Automatic  \n",
       "...               ...              ...        ...  \n",
       "23213              US               US   Reviewed  \n",
       "23326              US               US   Reviewed  \n",
       "23369              US               US   Reviewed  \n",
       "23386              US               US   Reviewed  \n",
       "23403              US               US   Reviewed  \n",
       "\n",
       "[447 rows x 13 columns]"
      ]
     },
     "execution_count": 34,
     "metadata": {},
     "output_type": "execute_result"
    }
   ],
   "source": [
    "outlier_data = data[abs(stats.zscore(data['Magnitude']))>3.0]\n",
    "outlier_data"
   ]
  },
  {
   "cell_type": "code",
   "execution_count": 35,
   "id": "fc6385de",
   "metadata": {},
   "outputs": [
    {
     "data": {
      "text/plain": [
       "(447, 13)"
      ]
     },
     "execution_count": 35,
     "metadata": {},
     "output_type": "execute_result"
    }
   ],
   "source": [
    "outlier_data.shape"
   ]
  },
  {
   "cell_type": "code",
   "execution_count": 36,
   "id": "eb4884b1",
   "metadata": {},
   "outputs": [
    {
     "name": "stdout",
     "output_type": "stream",
     "text": [
      "7.2\n",
      "9.1\n"
     ]
    }
   ],
   "source": [
    "print(outlier_data.Magnitude.min())\n",
    "print(outlier_data.Magnitude.max())"
   ]
  },
  {
   "cell_type": "code",
   "execution_count": 37,
   "id": "bfced18f",
   "metadata": {},
   "outputs": [
    {
     "name": "stderr",
     "output_type": "stream",
     "text": [
      "C:\\Users\\ADMIN\\anaconda3\\lib\\site-packages\\seaborn\\distributions.py:2619: FutureWarning: `distplot` is a deprecated function and will be removed in a future version. Please adapt your code to use either `displot` (a figure-level function with similar flexibility) or `histplot` (an axes-level function for histograms).\n",
      "  warnings.warn(msg, FutureWarning)\n"
     ]
    },
    {
     "data": {
      "image/png": "[encoded data removed]",
      "text/plain": [
       "<Figure size 432x288 with 1 Axes>"
      ]
     },
     "metadata": {},
     "output_type": "display_data"
    }
   ],
   "source": [
    "sns.distplot(outlier_data['Magnitude']);"
   ]
  },
  {
   "cell_type": "markdown",
   "id": "26c5a4e5",
   "metadata": {},
   "source": [
    "Uni-Variate Analysis and Bi-Variate Analysis"
   ]
  },
  {
   "cell_type": "code",
   "execution_count": 38,
   "id": "8d9ec5a8",
   "metadata": {},
   "outputs": [
    {
     "data": {
      "text/plain": [
       "count    23229.000000\n",
       "mean         5.882760\n",
       "std          0.424022\n",
       "min          5.500000\n",
       "25%          5.600000\n",
       "50%          5.700000\n",
       "75%          6.000000\n",
       "max          9.100000\n",
       "Name: Magnitude, dtype: float64"
      ]
     },
     "execution_count": 38,
     "metadata": {},
     "output_type": "execute_result"
    }
   ],
   "source": [
    "#Magnitude of the Earthquakes throughout the timeline\n",
    "data['Magnitude'].describe()"
   ]
  },
  {
   "cell_type": "code",
   "execution_count": 39,
   "id": "6793d9fa",
   "metadata": {},
   "outputs": [
    {
     "name": "stderr",
     "output_type": "stream",
     "text": [
      "C:\\Users\\ADMIN\\anaconda3\\lib\\site-packages\\seaborn\\distributions.py:2619: FutureWarning: `distplot` is a deprecated function and will be removed in a future version. Please adapt your code to use either `displot` (a figure-level function with similar flexibility) or `histplot` (an axes-level function for histograms).\n",
      "  warnings.warn(msg, FutureWarning)\n"
     ]
    },
    {
     "data": {
      "image/png": "[encoded data removed]",
      "text/plain": [
       "<Figure size 432x288 with 1 Axes>"
      ]
     },
     "metadata": {},
     "output_type": "display_data"
    },
    {
     "data": {
      "image/png": "[encoded data removed]",
      "text/plain": [
       "<Figure size 432x288 with 1 Axes>"
      ]
     },
     "metadata": {},
     "output_type": "display_data"
    }
   ],
   "source": [
    "#histogram and normal probability plot\n",
    "sns.distplot(data['Magnitude']);\n",
    "fig = plt.figure()\n",
    "res = stats.probplot(data['Magnitude'], plot=plt)"
   ]
  },
  {
   "cell_type": "code",
   "execution_count": 40,
   "id": "bbed460d",
   "metadata": {},
   "outputs": [],
   "source": [
    "datanew=data\n",
    "data2=data\n",
    "data3=data\n",
    "data4=data\n",
    "data5=data"
   ]
  },
  {
   "cell_type": "code",
   "execution_count": 41,
   "id": "eb911874",
   "metadata": {},
   "outputs": [
    {
     "name": "stderr",
     "output_type": "stream",
     "text": [
      "C:\\Users\\ADMIN\\anaconda3\\lib\\site-packages\\seaborn\\distributions.py:2619: FutureWarning: `distplot` is a deprecated function and will be removed in a future version. Please adapt your code to use either `displot` (a figure-level function with similar flexibility) or `histplot` (an axes-level function for histograms).\n",
      "  warnings.warn(msg, FutureWarning)\n"
     ]
    },
    {
     "data": {
      "image/png": "[encoded data removed]",
      "text/plain": [
       "<Figure size 432x288 with 1 Axes>"
      ]
     },
     "metadata": {},
     "output_type": "display_data"
    },
    {
     "data": {
      "image/png": "[encoded data removed]",
      "text/plain": [
       "<Figure size 432x288 with 1 Axes>"
      ]
     },
     "metadata": {},
     "output_type": "display_data"
    }
   ],
   "source": [
    "datanew['Magnitude'] = np.cbrt(data['Magnitude'])\n",
    "\n",
    "sns.distplot(datanew['Magnitude']);\n",
    "fig = plt.figure()\n",
    "res = stats.probplot(datanew['Magnitude'], plot=plt)"
   ]
  },
  {
   "cell_type": "code",
   "execution_count": 42,
   "id": "a29c5dda",
   "metadata": {},
   "outputs": [
    {
     "name": "stderr",
     "output_type": "stream",
     "text": [
      "C:\\Users\\ADMIN\\anaconda3\\lib\\site-packages\\seaborn\\distributions.py:2619: FutureWarning: `distplot` is a deprecated function and will be removed in a future version. Please adapt your code to use either `displot` (a figure-level function with similar flexibility) or `histplot` (an axes-level function for histograms).\n",
      "  warnings.warn(msg, FutureWarning)\n"
     ]
    },
    {
     "data": {
      "image/png": "[encoded data removed]",
      "text/plain": [
       "<Figure size 432x288 with 1 Axes>"
      ]
     },
     "metadata": {},
     "output_type": "display_data"
    },
    {
     "data": {
      "image/png": "[encoded data removed]",
      "text/plain": [
       "<Figure size 432x288 with 1 Axes>"
      ]
     },
     "metadata": {},
     "output_type": "display_data"
    }
   ],
   "source": [
    "data2['Magnitude'] = np.log(data['Magnitude'])\n",
    "\n",
    "sns.distplot(data2['Magnitude']);\n",
    "fig = plt.figure()\n",
    "res = stats.probplot(data2['Magnitude'], plot=plt)"
   ]
  },
  {
   "cell_type": "code",
   "execution_count": 43,
   "id": "eb4fea74",
   "metadata": {},
   "outputs": [
    {
     "name": "stderr",
     "output_type": "stream",
     "text": [
      "C:\\Users\\ADMIN\\anaconda3\\lib\\site-packages\\seaborn\\distributions.py:2619: FutureWarning: `distplot` is a deprecated function and will be removed in a future version. Please adapt your code to use either `displot` (a figure-level function with similar flexibility) or `histplot` (an axes-level function for histograms).\n",
      "  warnings.warn(msg, FutureWarning)\n"
     ]
    },
    {
     "data": {
      "image/png": "[encoded data removed]",
      "text/plain": [
       "<Figure size 432x288 with 1 Axes>"
      ]
     },
     "metadata": {},
     "output_type": "display_data"
    },
    {
     "data": {
      "image/png": "[encoded data removed]",
      "text/plain": [
       "<Figure size 432x288 with 1 Axes>"
      ]
     },
     "metadata": {},
     "output_type": "display_data"
    }
   ],
   "source": [
    "data3['Magnitude'] = np.exp(data['Magnitude'])\n",
    "\n",
    "sns.distplot(data3['Magnitude']);\n",
    "fig = plt.figure()\n",
    "res = stats.probplot(data3['Magnitude'], plot=plt)"
   ]
  },
  {
   "cell_type": "code",
   "execution_count": 44,
   "id": "51bb6c6a",
   "metadata": {},
   "outputs": [
    {
     "name": "stderr",
     "output_type": "stream",
     "text": [
      "C:\\Users\\ADMIN\\anaconda3\\lib\\site-packages\\seaborn\\distributions.py:2619: FutureWarning: `distplot` is a deprecated function and will be removed in a future version. Please adapt your code to use either `displot` (a figure-level function with similar flexibility) or `histplot` (an axes-level function for histograms).\n",
      "  warnings.warn(msg, FutureWarning)\n"
     ]
    },
    {
     "data": {
      "image/png": "[encoded data removed]",
      "text/plain": [
       "<Figure size 432x288 with 1 Axes>"
      ]
     },
     "metadata": {},
     "output_type": "display_data"
    },
    {
     "data": {
      "image/png": "[encoded data removed]",
      "text/plain": [
       "<Figure size 432x288 with 1 Axes>"
      ]
     },
     "metadata": {},
     "output_type": "display_data"
    }
   ],
   "source": [
    "data4['Magnitude'] = np.sqrt(data['Magnitude'])\n",
    "\n",
    "sns.distplot(data4['Magnitude']);\n",
    "fig = plt.figure()\n",
    "res = stats.probplot(data4['Magnitude'], plot=plt)"
   ]
  },
  {
   "cell_type": "code",
   "execution_count": 45,
   "id": "fb9b450c",
   "metadata": {},
   "outputs": [
    {
     "data": {
      "text/html": [
       "<div>\n",
       "<style scoped>\n",
       "    .dataframe tbody tr th:only-of-type {\n",
       "        vertical-align: middle;\n",
       "    }\n",
       "\n",
       "    .dataframe tbody tr th {\n",
       "        vertical-align: top;\n",
       "    }\n",
       "\n",
       "    .dataframe thead th {\n",
       "        text-align: right;\n",
       "    }\n",
       "</style>\n",
       "<table border=\"1\" class=\"dataframe\">\n",
       "  <thead>\n",
       "    <tr style=\"text-align: right;\">\n",
       "      <th></th>\n",
       "      <th>Date_Time</th>\n",
       "      <th>Latitude</th>\n",
       "      <th>Longitude</th>\n",
       "      <th>Type</th>\n",
       "      <th>Depth</th>\n",
       "      <th>Magnitude</th>\n",
       "      <th>Magnitude Type</th>\n",
       "      <th>Root Mean Square</th>\n",
       "      <th>ID</th>\n",
       "      <th>Source</th>\n",
       "      <th>Location Source</th>\n",
       "      <th>Magnitude Source</th>\n",
       "      <th>Status</th>\n",
       "    </tr>\n",
       "  </thead>\n",
       "  <tbody>\n",
       "    <tr>\n",
       "      <th>0</th>\n",
       "      <td>1965-01-02 13:44:18</td>\n",
       "      <td>19.246</td>\n",
       "      <td>145.616</td>\n",
       "      <td>Earthquake</td>\n",
       "      <td>131.6</td>\n",
       "      <td>1.348006</td>\n",
       "      <td>MW</td>\n",
       "      <td>1.02351</td>\n",
       "      <td>ISCGEM860706</td>\n",
       "      <td>ISCGEM</td>\n",
       "      <td>ISCGEM</td>\n",
       "      <td>ISCGEM</td>\n",
       "      <td>Automatic</td>\n",
       "    </tr>\n",
       "    <tr>\n",
       "      <th>1</th>\n",
       "      <td>1965-01-04 11:29:49</td>\n",
       "      <td>1.863</td>\n",
       "      <td>127.352</td>\n",
       "      <td>Earthquake</td>\n",
       "      <td>80.0</td>\n",
       "      <td>1.340411</td>\n",
       "      <td>MW</td>\n",
       "      <td>1.02351</td>\n",
       "      <td>ISCGEM860737</td>\n",
       "      <td>ISCGEM</td>\n",
       "      <td>ISCGEM</td>\n",
       "      <td>ISCGEM</td>\n",
       "      <td>Automatic</td>\n",
       "    </tr>\n",
       "    <tr>\n",
       "      <th>2</th>\n",
       "      <td>1965-01-05 18:05:58</td>\n",
       "      <td>-20.579</td>\n",
       "      <td>-173.972</td>\n",
       "      <td>Earthquake</td>\n",
       "      <td>20.0</td>\n",
       "      <td>1.355393</td>\n",
       "      <td>MW</td>\n",
       "      <td>1.02351</td>\n",
       "      <td>ISCGEM860762</td>\n",
       "      <td>ISCGEM</td>\n",
       "      <td>ISCGEM</td>\n",
       "      <td>ISCGEM</td>\n",
       "      <td>Automatic</td>\n",
       "    </tr>\n",
       "    <tr>\n",
       "      <th>3</th>\n",
       "      <td>1965-01-08 18:49:43</td>\n",
       "      <td>-59.076</td>\n",
       "      <td>-23.557</td>\n",
       "      <td>Earthquake</td>\n",
       "      <td>15.0</td>\n",
       "      <td>1.340411</td>\n",
       "      <td>MW</td>\n",
       "      <td>1.02351</td>\n",
       "      <td>ISCGEM860856</td>\n",
       "      <td>ISCGEM</td>\n",
       "      <td>ISCGEM</td>\n",
       "      <td>ISCGEM</td>\n",
       "      <td>Automatic</td>\n",
       "    </tr>\n",
       "    <tr>\n",
       "      <th>4</th>\n",
       "      <td>1965-01-09 13:32:50</td>\n",
       "      <td>11.938</td>\n",
       "      <td>126.427</td>\n",
       "      <td>Earthquake</td>\n",
       "      <td>15.0</td>\n",
       "      <td>1.340411</td>\n",
       "      <td>MW</td>\n",
       "      <td>1.02351</td>\n",
       "      <td>ISCGEM860890</td>\n",
       "      <td>ISCGEM</td>\n",
       "      <td>ISCGEM</td>\n",
       "      <td>ISCGEM</td>\n",
       "      <td>Automatic</td>\n",
       "    </tr>\n",
       "  </tbody>\n",
       "</table>\n",
       "</div>"
      ],
      "text/plain": [
       "            Date_Time  Latitude  Longitude        Type  Depth  Magnitude  \\\n",
       "0 1965-01-02 13:44:18    19.246    145.616  Earthquake  131.6   1.348006   \n",
       "1 1965-01-04 11:29:49     1.863    127.352  Earthquake   80.0   1.340411   \n",
       "2 1965-01-05 18:05:58   -20.579   -173.972  Earthquake   20.0   1.355393   \n",
       "3 1965-01-08 18:49:43   -59.076    -23.557  Earthquake   15.0   1.340411   \n",
       "4 1965-01-09 13:32:50    11.938    126.427  Earthquake   15.0   1.340411   \n",
       "\n",
       "  Magnitude Type  Root Mean Square            ID  Source Location Source  \\\n",
       "0             MW           1.02351  ISCGEM860706  ISCGEM          ISCGEM   \n",
       "1             MW           1.02351  ISCGEM860737  ISCGEM          ISCGEM   \n",
       "2             MW           1.02351  ISCGEM860762  ISCGEM          ISCGEM   \n",
       "3             MW           1.02351  ISCGEM860856  ISCGEM          ISCGEM   \n",
       "4             MW           1.02351  ISCGEM860890  ISCGEM          ISCGEM   \n",
       "\n",
       "  Magnitude Source     Status  \n",
       "0           ISCGEM  Automatic  \n",
       "1           ISCGEM  Automatic  \n",
       "2           ISCGEM  Automatic  \n",
       "3           ISCGEM  Automatic  \n",
       "4           ISCGEM  Automatic  "
      ]
     },
     "execution_count": 45,
     "metadata": {},
     "output_type": "execute_result"
    }
   ],
   "source": [
    "data.head()"
   ]
  },
  {
   "cell_type": "code",
   "execution_count": 46,
   "id": "0bbb16db",
   "metadata": {},
   "outputs": [
    {
     "name": "stderr",
     "output_type": "stream",
     "text": [
      "C:\\Users\\ADMIN\\anaconda3\\lib\\site-packages\\seaborn\\distributions.py:2619: FutureWarning: `distplot` is a deprecated function and will be removed in a future version. Please adapt your code to use either `displot` (a figure-level function with similar flexibility) or `histplot` (an axes-level function for histograms).\n",
      "  warnings.warn(msg, FutureWarning)\n"
     ]
    },
    {
     "data": {
      "image/png": "[encoded data removed]",
      "text/plain": [
       "<Figure size 432x288 with 1 Axes>"
      ]
     },
     "metadata": {},
     "output_type": "display_data"
    }
   ],
   "source": [
    "sns.distplot(data['Depth']);"
   ]
  },
  {
   "cell_type": "code",
   "execution_count": 47,
   "id": "e9da330e",
   "metadata": {},
   "outputs": [
    {
     "data": {
      "text/plain": [
       "<matplotlib.collections.PathCollection at 0x28375100d90>"
      ]
     },
     "execution_count": 47,
     "metadata": {},
     "output_type": "execute_result"
    },
    {
     "data": {
      "image/png": "[encoded data removed]",
      "text/plain": [
       "<Figure size 432x288 with 1 Axes>"
      ]
     },
     "metadata": {},
     "output_type": "display_data"
    }
   ],
   "source": [
    "plt.scatter(data[\"Magnitude\"],data[\"Depth\"])"
   ]
  },
  {
   "cell_type": "code",
   "execution_count": 48,
   "id": "7eaaec68",
   "metadata": {},
   "outputs": [
    {
     "data": {
      "image/png": "[encoded data removed]",
      "text/plain": [
       "<Figure size 432x288 with 2 Axes>"
      ]
     },
     "metadata": {},
     "output_type": "display_data"
    }
   ],
   "source": [
    "corrmat = data.corr()\n",
    "k = 2 #number of variables for heatmap\n",
    "cols = corrmat.nlargest(k, 'Depth')['Depth'].index\n",
    "cm = np.corrcoef(data[cols].values.T)\n",
    "sns.set(font_scale=1.25)\n",
    "hm = sns.heatmap(cm, cbar=True, annot=True, square=True, fmt='.2f', annot_kws={'size': 10}, yticklabels=cols.values, xticklabels=cols.values)\n",
    "plt.show()"
   ]
  },
  {
   "cell_type": "code",
   "execution_count": 49,
   "id": "f29fba8a",
   "metadata": {},
   "outputs": [],
   "source": [
    "data = data.set_index(['Date_Time'])"
   ]
  },
  {
   "cell_type": "code",
   "execution_count": 50,
   "id": "6c0c6518",
   "metadata": {},
   "outputs": [],
   "source": [
    "#data.drop(['Date_Time'], axis = 1, inplace = True)\n",
    "def f(x):\n",
    "     return pd.Series(dict(Count_of_Disaster = x['Type'].count(),))\n",
    "    "
   ]
  },
  {
   "cell_type": "code",
   "execution_count": 51,
   "id": "bf0fb369",
   "metadata": {},
   "outputs": [
    {
     "name": "stdout",
     "output_type": "stream",
     "text": [
      "7\n"
     ]
    },
    {
     "data": {
      "text/html": [
       "<div>\n",
       "<style scoped>\n",
       "    .dataframe tbody tr th:only-of-type {\n",
       "        vertical-align: middle;\n",
       "    }\n",
       "\n",
       "    .dataframe tbody tr th {\n",
       "        vertical-align: top;\n",
       "    }\n",
       "\n",
       "    .dataframe thead th {\n",
       "        text-align: right;\n",
       "    }\n",
       "</style>\n",
       "<table border=\"1\" class=\"dataframe\">\n",
       "  <thead>\n",
       "    <tr style=\"text-align: right;\">\n",
       "      <th></th>\n",
       "      <th>Count_of_Disaster</th>\n",
       "    </tr>\n",
       "    <tr>\n",
       "      <th>Date_Time</th>\n",
       "      <th></th>\n",
       "    </tr>\n",
       "  </thead>\n",
       "  <tbody>\n",
       "    <tr>\n",
       "      <th>0</th>\n",
       "      <td>3338</td>\n",
       "    </tr>\n",
       "    <tr>\n",
       "      <th>1</th>\n",
       "      <td>3231</td>\n",
       "    </tr>\n",
       "    <tr>\n",
       "      <th>2</th>\n",
       "      <td>3399</td>\n",
       "    </tr>\n",
       "    <tr>\n",
       "      <th>3</th>\n",
       "      <td>3274</td>\n",
       "    </tr>\n",
       "    <tr>\n",
       "      <th>4</th>\n",
       "      <td>3343</td>\n",
       "    </tr>\n",
       "    <tr>\n",
       "      <th>5</th>\n",
       "      <td>3402</td>\n",
       "    </tr>\n",
       "    <tr>\n",
       "      <th>6</th>\n",
       "      <td>3242</td>\n",
       "    </tr>\n",
       "  </tbody>\n",
       "</table>\n",
       "</div>"
      ],
      "text/plain": [
       "           Count_of_Disaster\n",
       "Date_Time                   \n",
       "0                       3338\n",
       "1                       3231\n",
       "2                       3399\n",
       "3                       3274\n",
       "4                       3343\n",
       "5                       3402\n",
       "6                       3242"
      ]
     },
     "execution_count": 51,
     "metadata": {},
     "output_type": "execute_result"
    }
   ],
   "source": [
    "weekday_count = data.groupby(data.index.weekday).apply(f)\n",
    "print (len(weekday_count))\n",
    "weekday_count"
   ]
  },
  {
   "cell_type": "code",
   "execution_count": 52,
   "id": "ed2aa4a7",
   "metadata": {},
   "outputs": [
    {
     "name": "stdout",
     "output_type": "stream",
     "text": [
      "52\n"
     ]
    },
    {
     "data": {
      "text/html": [
       "<div>\n",
       "<style scoped>\n",
       "    .dataframe tbody tr th:only-of-type {\n",
       "        vertical-align: middle;\n",
       "    }\n",
       "\n",
       "    .dataframe tbody tr th {\n",
       "        vertical-align: top;\n",
       "    }\n",
       "\n",
       "    .dataframe thead th {\n",
       "        text-align: right;\n",
       "    }\n",
       "</style>\n",
       "<table border=\"1\" class=\"dataframe\">\n",
       "  <thead>\n",
       "    <tr style=\"text-align: right;\">\n",
       "      <th></th>\n",
       "      <th>Count_of_Disaster</th>\n",
       "    </tr>\n",
       "    <tr>\n",
       "      <th>Date_Time</th>\n",
       "      <th></th>\n",
       "    </tr>\n",
       "  </thead>\n",
       "  <tbody>\n",
       "    <tr>\n",
       "      <th>1965</th>\n",
       "      <td>339</td>\n",
       "    </tr>\n",
       "    <tr>\n",
       "      <th>1966</th>\n",
       "      <td>233</td>\n",
       "    </tr>\n",
       "    <tr>\n",
       "      <th>1967</th>\n",
       "      <td>255</td>\n",
       "    </tr>\n",
       "    <tr>\n",
       "      <th>1968</th>\n",
       "      <td>303</td>\n",
       "    </tr>\n",
       "    <tr>\n",
       "      <th>1969</th>\n",
       "      <td>322</td>\n",
       "    </tr>\n",
       "  </tbody>\n",
       "</table>\n",
       "</div>"
      ],
      "text/plain": [
       "           Count_of_Disaster\n",
       "Date_Time                   \n",
       "1965                     339\n",
       "1966                     233\n",
       "1967                     255\n",
       "1968                     303\n",
       "1969                     322"
      ]
     },
     "execution_count": 52,
     "metadata": {},
     "output_type": "execute_result"
    }
   ],
   "source": [
    "yearly_count = data.groupby(data.index.year).apply(f)\n",
    "print (len(yearly_count))\n",
    "yearly_count.head()"
   ]
  },
  {
   "cell_type": "code",
   "execution_count": 53,
   "id": "b647843b",
   "metadata": {},
   "outputs": [
    {
     "data": {
      "image/png": "[encoded data removed]",
      "text/plain": [
       "<Figure size 432x288 with 1 Axes>"
      ]
     },
     "metadata": {},
     "output_type": "display_data"
    }
   ],
   "source": [
    "yearly_plot = yearly_count['Count_of_Disaster'].plot()"
   ]
  },
  {
   "cell_type": "code",
   "execution_count": 54,
   "id": "a8783b07",
   "metadata": {},
   "outputs": [
    {
     "name": "stdout",
     "output_type": "stream",
     "text": [
      "12\n"
     ]
    },
    {
     "data": {
      "text/html": [
       "<div>\n",
       "<style scoped>\n",
       "    .dataframe tbody tr th:only-of-type {\n",
       "        vertical-align: middle;\n",
       "    }\n",
       "\n",
       "    .dataframe tbody tr th {\n",
       "        vertical-align: top;\n",
       "    }\n",
       "\n",
       "    .dataframe thead th {\n",
       "        text-align: right;\n",
       "    }\n",
       "</style>\n",
       "<table border=\"1\" class=\"dataframe\">\n",
       "  <thead>\n",
       "    <tr style=\"text-align: right;\">\n",
       "      <th></th>\n",
       "      <th>Count_of_Disaster</th>\n",
       "    </tr>\n",
       "    <tr>\n",
       "      <th>Date_Time</th>\n",
       "      <th></th>\n",
       "    </tr>\n",
       "  </thead>\n",
       "  <tbody>\n",
       "    <tr>\n",
       "      <th>1</th>\n",
       "      <td>1888</td>\n",
       "    </tr>\n",
       "    <tr>\n",
       "      <th>2</th>\n",
       "      <td>1821</td>\n",
       "    </tr>\n",
       "    <tr>\n",
       "      <th>3</th>\n",
       "      <td>2103</td>\n",
       "    </tr>\n",
       "    <tr>\n",
       "      <th>4</th>\n",
       "      <td>1959</td>\n",
       "    </tr>\n",
       "    <tr>\n",
       "      <th>5</th>\n",
       "      <td>1945</td>\n",
       "    </tr>\n",
       "    <tr>\n",
       "      <th>6</th>\n",
       "      <td>1806</td>\n",
       "    </tr>\n",
       "    <tr>\n",
       "      <th>7</th>\n",
       "      <td>1865</td>\n",
       "    </tr>\n",
       "    <tr>\n",
       "      <th>8</th>\n",
       "      <td>2000</td>\n",
       "    </tr>\n",
       "    <tr>\n",
       "      <th>9</th>\n",
       "      <td>1972</td>\n",
       "    </tr>\n",
       "    <tr>\n",
       "      <th>10</th>\n",
       "      <td>1924</td>\n",
       "    </tr>\n",
       "    <tr>\n",
       "      <th>11</th>\n",
       "      <td>1969</td>\n",
       "    </tr>\n",
       "    <tr>\n",
       "      <th>12</th>\n",
       "      <td>1977</td>\n",
       "    </tr>\n",
       "  </tbody>\n",
       "</table>\n",
       "</div>"
      ],
      "text/plain": [
       "           Count_of_Disaster\n",
       "Date_Time                   \n",
       "1                       1888\n",
       "2                       1821\n",
       "3                       2103\n",
       "4                       1959\n",
       "5                       1945\n",
       "6                       1806\n",
       "7                       1865\n",
       "8                       2000\n",
       "9                       1972\n",
       "10                      1924\n",
       "11                      1969\n",
       "12                      1977"
      ]
     },
     "execution_count": 54,
     "metadata": {},
     "output_type": "execute_result"
    }
   ],
   "source": [
    "monthly_count = data.groupby(data.index.month).apply(f)\n",
    "print (len(monthly_count))\n",
    "monthly_count"
   ]
  },
  {
   "cell_type": "code",
   "execution_count": 55,
   "id": "803d165a",
   "metadata": {},
   "outputs": [
    {
     "data": {
      "image/png": "[encoded data removed]",
      "text/plain": [
       "<Figure size 432x288 with 1 Axes>"
      ]
     },
     "metadata": {},
     "output_type": "display_data"
    }
   ],
   "source": [
    "monthly_count = monthly_count['Count_of_Disaster'].plot()"
   ]
  },
  {
   "cell_type": "code",
   "execution_count": 56,
   "id": "fb79c30d",
   "metadata": {},
   "outputs": [],
   "source": [
    "# #defining connection parameters\n",
    "# import pyodbc \n",
    "# server = 'msc-dat-analytics.database.windows.net' \n",
    "# database = 'MscDAT' \n",
    "# username = 'dap' \n",
    "# password = 'India-data-analytics' \n",
    "# conn = pyodbc.connect('DRIVER={ODBC Driver 17 for SQL Server};SERVER='+server+';DATABASE='+database+';UID='+username+';PWD='+ password)"
   ]
  },
  {
   "cell_type": "code",
   "execution_count": 57,
   "id": "77844125",
   "metadata": {},
   "outputs": [
    {
     "ename": "InterfaceError",
     "evalue": "('IM002', '[IM002] [Microsoft][ODBC Driver Manager] Data source name not found and no default driver specified (0) (SQLDriverConnect)')",
     "output_type": "error",
     "traceback": [
      "\u001b[1;31m---------------------------------------------------------------------------\u001b[0m",
      "\u001b[1;31mInterfaceError\u001b[0m                            Traceback (most recent call last)",
      "\u001b[1;32m~\\AppData\\Local\\Temp/ipykernel_14556/3073180720.py\u001b[0m in \u001b[0;36m<module>\u001b[1;34m\u001b[0m\n\u001b[0;32m      2\u001b[0m \u001b[1;32mimport\u001b[0m \u001b[0mpyodbc\u001b[0m\u001b[1;33m\u001b[0m\u001b[1;33m\u001b[0m\u001b[0m\n\u001b[0;32m      3\u001b[0m \u001b[1;33m\u001b[0m\u001b[0m\n\u001b[1;32m----> 4\u001b[1;33m conn = pyodbc.connect(\"Driver={SQL Server Native Client 11.0};\"\n\u001b[0m\u001b[0;32m      5\u001b[0m                       \u001b[1;34m\"Server=LAPTOP-FMSOI4VL;\"\u001b[0m\u001b[1;33m\u001b[0m\u001b[1;33m\u001b[0m\u001b[0m\n\u001b[0;32m      6\u001b[0m                       \u001b[1;34m\"Database=MscDAP;\"\u001b[0m\u001b[1;33m\u001b[0m\u001b[1;33m\u001b[0m\u001b[0m\n",
      "\u001b[1;31mInterfaceError\u001b[0m: ('IM002', '[IM002] [Microsoft][ODBC Driver Manager] Data source name not found and no default driver specified (0) (SQLDriverConnect)')"
     ]
    }
   ],
   "source": [
    "#defining connection parameters\n",
    "import pyodbc \n",
    "\n",
    "conn = pyodbc.connect(\"Driver={SQL Server Native Client 11.0};\"\n",
    "                      \"Server=LAPTOP-FMSOI4VL;\"\n",
    "                      \"Database=MscDAP;\"\n",
    "                      \"Trusted_Connection=yes;\")"
   ]
  },
  {
   "cell_type": "code",
   "execution_count": 58,
   "id": "fc48042c",
   "metadata": {},
   "outputs": [
    {
     "ename": "NameError",
     "evalue": "name 'conn' is not defined",
     "output_type": "error",
     "traceback": [
      "\u001b[1;31m---------------------------------------------------------------------------\u001b[0m",
      "\u001b[1;31mNameError\u001b[0m                                 Traceback (most recent call last)",
      "\u001b[1;32m~\\AppData\\Local\\Temp/ipykernel_14556/763962774.py\u001b[0m in \u001b[0;36m<module>\u001b[1;34m\u001b[0m\n\u001b[1;32m----> 1\u001b[1;33m \u001b[0mcursor\u001b[0m \u001b[1;33m=\u001b[0m \u001b[0mconn\u001b[0m\u001b[1;33m.\u001b[0m\u001b[0mcursor\u001b[0m\u001b[1;33m(\u001b[0m\u001b[1;33m)\u001b[0m\u001b[1;33m\u001b[0m\u001b[1;33m\u001b[0m\u001b[0m\n\u001b[0m",
      "\u001b[1;31mNameError\u001b[0m: name 'conn' is not defined"
     ]
    }
   ],
   "source": [
    "cursor = conn.cursor()"
   ]
  },
  {
   "cell_type": "code",
   "execution_count": 59,
   "id": "48f1be80",
   "metadata": {},
   "outputs": [
    {
     "ename": "NameError",
     "evalue": "name 'cursor' is not defined",
     "output_type": "error",
     "traceback": [
      "\u001b[1;31m---------------------------------------------------------------------------\u001b[0m",
      "\u001b[1;31mNameError\u001b[0m                                 Traceback (most recent call last)",
      "\u001b[1;32m~\\AppData\\Local\\Temp/ipykernel_14556/480501294.py\u001b[0m in \u001b[0;36m<module>\u001b[1;34m\u001b[0m\n\u001b[1;32m----> 1\u001b[1;33m cursor.execute('''\n\u001b[0m\u001b[0;32m      2\u001b[0m \u001b[0mIF\u001b[0m \u001b[0mOBJECT_ID\u001b[0m\u001b[1;33m(\u001b[0m\u001b[1;34m'dbo.Earthquake'\u001b[0m\u001b[1;33m,\u001b[0m \u001b[1;34m'U'\u001b[0m\u001b[1;33m)\u001b[0m \u001b[0mIS\u001b[0m \u001b[0mNOT\u001b[0m \u001b[0mNULL\u001b[0m\u001b[1;33m\u001b[0m\u001b[1;33m\u001b[0m\u001b[0m\n\u001b[0;32m      3\u001b[0m   \u001b[0mDROP\u001b[0m \u001b[0mTABLE\u001b[0m \u001b[0mdbo\u001b[0m\u001b[1;33m.\u001b[0m\u001b[0mEarthquake\u001b[0m\u001b[1;33m;\u001b[0m\u001b[1;33m\u001b[0m\u001b[1;33m\u001b[0m\u001b[0m\n\u001b[0;32m      4\u001b[0m ''')\n",
      "\u001b[1;31mNameError\u001b[0m: name 'cursor' is not defined"
     ]
    }
   ],
   "source": [
    "cursor.execute('''\n",
    "IF OBJECT_ID('dbo.Earthquake', 'U') IS NOT NULL \n",
    "  DROP TABLE dbo.Earthquake; \n",
    "''')"
   ]
  },
  {
   "cell_type": "code",
   "execution_count": 60,
   "id": "3a5def6c",
   "metadata": {},
   "outputs": [
    {
     "ename": "NameError",
     "evalue": "name 'cursor' is not defined",
     "output_type": "error",
     "traceback": [
      "\u001b[1;31m---------------------------------------------------------------------------\u001b[0m",
      "\u001b[1;31mNameError\u001b[0m                                 Traceback (most recent call last)",
      "\u001b[1;32m~\\AppData\\Local\\Temp/ipykernel_14556/2792306481.py\u001b[0m in \u001b[0;36m<module>\u001b[1;34m\u001b[0m\n\u001b[1;32m----> 1\u001b[1;33m cursor.execute('''\n\u001b[0m\u001b[0;32m      2\u001b[0m CREATE TABLE dbo.Earthquake(\n\u001b[0;32m      3\u001b[0m \u001b[0mDisaster_id\u001b[0m \u001b[0mint\u001b[0m \u001b[0midentity\u001b[0m\u001b[1;33m(\u001b[0m\u001b[1;36m100\u001b[0m\u001b[1;33m,\u001b[0m\u001b[1;36m1\u001b[0m\u001b[1;33m)\u001b[0m \u001b[0mprimary\u001b[0m \u001b[0mkey\u001b[0m\u001b[1;33m,\u001b[0m\u001b[1;33m\u001b[0m\u001b[1;33m\u001b[0m\u001b[0m\n\u001b[0;32m      4\u001b[0m \u001b[0mDate_Time\u001b[0m \u001b[0mvarchar\u001b[0m\u001b[1;33m(\u001b[0m\u001b[1;36m20\u001b[0m\u001b[1;33m)\u001b[0m\u001b[1;33m,\u001b[0m\u001b[1;33m\u001b[0m\u001b[1;33m\u001b[0m\u001b[0m\n\u001b[0;32m      5\u001b[0m \u001b[0mLatitude\u001b[0m \u001b[0mfloat\u001b[0m\u001b[1;33m,\u001b[0m\u001b[1;33m\u001b[0m\u001b[1;33m\u001b[0m\u001b[0m\n",
      "\u001b[1;31mNameError\u001b[0m: name 'cursor' is not defined"
     ]
    }
   ],
   "source": [
    "cursor.execute('''\n",
    "CREATE TABLE dbo.Earthquake(\n",
    "Disaster_id int identity(100,1) primary key,\n",
    "Date_Time varchar(20),\n",
    "Latitude float,\n",
    "Longitude float,\n",
    "Disaster_Type varchar(30),\n",
    "Source varchar(30),\n",
    "Status varchar(30)\n",
    ");\n",
    "''') "
   ]
  },
  {
   "cell_type": "code",
   "execution_count": 61,
   "id": "3e0b0196",
   "metadata": {},
   "outputs": [
    {
     "data": {
      "text/html": [
       "<div>\n",
       "<style scoped>\n",
       "    .dataframe tbody tr th:only-of-type {\n",
       "        vertical-align: middle;\n",
       "    }\n",
       "\n",
       "    .dataframe tbody tr th {\n",
       "        vertical-align: top;\n",
       "    }\n",
       "\n",
       "    .dataframe thead th {\n",
       "        text-align: right;\n",
       "    }\n",
       "</style>\n",
       "<table border=\"1\" class=\"dataframe\">\n",
       "  <thead>\n",
       "    <tr style=\"text-align: right;\">\n",
       "      <th></th>\n",
       "      <th>Date_Time</th>\n",
       "      <th>Latitude</th>\n",
       "      <th>Longitude</th>\n",
       "      <th>Type</th>\n",
       "      <th>Depth</th>\n",
       "      <th>Magnitude</th>\n",
       "      <th>Magnitude Type</th>\n",
       "      <th>Root Mean Square</th>\n",
       "      <th>ID</th>\n",
       "      <th>Source</th>\n",
       "      <th>Location Source</th>\n",
       "      <th>Magnitude Source</th>\n",
       "      <th>Status</th>\n",
       "    </tr>\n",
       "  </thead>\n",
       "  <tbody>\n",
       "    <tr>\n",
       "      <th>0</th>\n",
       "      <td>1965-01-02 13:44:18</td>\n",
       "      <td>19.2460</td>\n",
       "      <td>145.6160</td>\n",
       "      <td>Earthquake</td>\n",
       "      <td>131.60</td>\n",
       "      <td>1.348006</td>\n",
       "      <td>MW</td>\n",
       "      <td>1.02351</td>\n",
       "      <td>ISCGEM860706</td>\n",
       "      <td>ISCGEM</td>\n",
       "      <td>ISCGEM</td>\n",
       "      <td>ISCGEM</td>\n",
       "      <td>Automatic</td>\n",
       "    </tr>\n",
       "    <tr>\n",
       "      <th>1</th>\n",
       "      <td>1965-01-04 11:29:49</td>\n",
       "      <td>1.8630</td>\n",
       "      <td>127.3520</td>\n",
       "      <td>Earthquake</td>\n",
       "      <td>80.00</td>\n",
       "      <td>1.340411</td>\n",
       "      <td>MW</td>\n",
       "      <td>1.02351</td>\n",
       "      <td>ISCGEM860737</td>\n",
       "      <td>ISCGEM</td>\n",
       "      <td>ISCGEM</td>\n",
       "      <td>ISCGEM</td>\n",
       "      <td>Automatic</td>\n",
       "    </tr>\n",
       "    <tr>\n",
       "      <th>2</th>\n",
       "      <td>1965-01-05 18:05:58</td>\n",
       "      <td>-20.5790</td>\n",
       "      <td>-173.9720</td>\n",
       "      <td>Earthquake</td>\n",
       "      <td>20.00</td>\n",
       "      <td>1.355393</td>\n",
       "      <td>MW</td>\n",
       "      <td>1.02351</td>\n",
       "      <td>ISCGEM860762</td>\n",
       "      <td>ISCGEM</td>\n",
       "      <td>ISCGEM</td>\n",
       "      <td>ISCGEM</td>\n",
       "      <td>Automatic</td>\n",
       "    </tr>\n",
       "    <tr>\n",
       "      <th>3</th>\n",
       "      <td>1965-01-08 18:49:43</td>\n",
       "      <td>-59.0760</td>\n",
       "      <td>-23.5570</td>\n",
       "      <td>Earthquake</td>\n",
       "      <td>15.00</td>\n",
       "      <td>1.340411</td>\n",
       "      <td>MW</td>\n",
       "      <td>1.02351</td>\n",
       "      <td>ISCGEM860856</td>\n",
       "      <td>ISCGEM</td>\n",
       "      <td>ISCGEM</td>\n",
       "      <td>ISCGEM</td>\n",
       "      <td>Automatic</td>\n",
       "    </tr>\n",
       "    <tr>\n",
       "      <th>4</th>\n",
       "      <td>1965-01-09 13:32:50</td>\n",
       "      <td>11.9380</td>\n",
       "      <td>126.4270</td>\n",
       "      <td>Earthquake</td>\n",
       "      <td>15.00</td>\n",
       "      <td>1.340411</td>\n",
       "      <td>MW</td>\n",
       "      <td>1.02351</td>\n",
       "      <td>ISCGEM860890</td>\n",
       "      <td>ISCGEM</td>\n",
       "      <td>ISCGEM</td>\n",
       "      <td>ISCGEM</td>\n",
       "      <td>Automatic</td>\n",
       "    </tr>\n",
       "    <tr>\n",
       "      <th>...</th>\n",
       "      <td>...</td>\n",
       "      <td>...</td>\n",
       "      <td>...</td>\n",
       "      <td>...</td>\n",
       "      <td>...</td>\n",
       "      <td>...</td>\n",
       "      <td>...</td>\n",
       "      <td>...</td>\n",
       "      <td>...</td>\n",
       "      <td>...</td>\n",
       "      <td>...</td>\n",
       "      <td>...</td>\n",
       "      <td>...</td>\n",
       "    </tr>\n",
       "    <tr>\n",
       "      <th>23224</th>\n",
       "      <td>2016-12-28 08:22:12</td>\n",
       "      <td>38.3917</td>\n",
       "      <td>-118.8941</td>\n",
       "      <td>Earthquake</td>\n",
       "      <td>12.30</td>\n",
       "      <td>1.332594</td>\n",
       "      <td>ML</td>\n",
       "      <td>0.18980</td>\n",
       "      <td>NN00570710</td>\n",
       "      <td>NN</td>\n",
       "      <td>NN</td>\n",
       "      <td>NN</td>\n",
       "      <td>Reviewed</td>\n",
       "    </tr>\n",
       "    <tr>\n",
       "      <th>23225</th>\n",
       "      <td>2016-12-28 09:13:47</td>\n",
       "      <td>38.3777</td>\n",
       "      <td>-118.8957</td>\n",
       "      <td>Earthquake</td>\n",
       "      <td>8.80</td>\n",
       "      <td>1.328599</td>\n",
       "      <td>ML</td>\n",
       "      <td>0.21870</td>\n",
       "      <td>NN00570744</td>\n",
       "      <td>NN</td>\n",
       "      <td>NN</td>\n",
       "      <td>NN</td>\n",
       "      <td>Reviewed</td>\n",
       "    </tr>\n",
       "    <tr>\n",
       "      <th>23226</th>\n",
       "      <td>2016-12-28 12:38:51</td>\n",
       "      <td>36.9179</td>\n",
       "      <td>140.4262</td>\n",
       "      <td>Earthquake</td>\n",
       "      <td>10.00</td>\n",
       "      <td>1.344235</td>\n",
       "      <td>MWW</td>\n",
       "      <td>1.52000</td>\n",
       "      <td>US10007NAF</td>\n",
       "      <td>US</td>\n",
       "      <td>US</td>\n",
       "      <td>US</td>\n",
       "      <td>Reviewed</td>\n",
       "    </tr>\n",
       "    <tr>\n",
       "      <th>23227</th>\n",
       "      <td>2016-12-29 22:30:19</td>\n",
       "      <td>-9.0283</td>\n",
       "      <td>118.6639</td>\n",
       "      <td>Earthquake</td>\n",
       "      <td>79.00</td>\n",
       "      <td>1.359012</td>\n",
       "      <td>MWW</td>\n",
       "      <td>1.43000</td>\n",
       "      <td>US10007NL0</td>\n",
       "      <td>US</td>\n",
       "      <td>US</td>\n",
       "      <td>US</td>\n",
       "      <td>Reviewed</td>\n",
       "    </tr>\n",
       "    <tr>\n",
       "      <th>23228</th>\n",
       "      <td>2016-12-30 20:08:28</td>\n",
       "      <td>37.3973</td>\n",
       "      <td>141.4103</td>\n",
       "      <td>Earthquake</td>\n",
       "      <td>11.94</td>\n",
       "      <td>1.328599</td>\n",
       "      <td>MB</td>\n",
       "      <td>0.91000</td>\n",
       "      <td>US10007NTD</td>\n",
       "      <td>US</td>\n",
       "      <td>US</td>\n",
       "      <td>US</td>\n",
       "      <td>Reviewed</td>\n",
       "    </tr>\n",
       "  </tbody>\n",
       "</table>\n",
       "<p>23229 rows × 13 columns</p>\n",
       "</div>"
      ],
      "text/plain": [
       "                Date_Time  Latitude  Longitude        Type   Depth  Magnitude  \\\n",
       "0     1965-01-02 13:44:18   19.2460   145.6160  Earthquake  131.60   1.348006   \n",
       "1     1965-01-04 11:29:49    1.8630   127.3520  Earthquake   80.00   1.340411   \n",
       "2     1965-01-05 18:05:58  -20.5790  -173.9720  Earthquake   20.00   1.355393   \n",
       "3     1965-01-08 18:49:43  -59.0760   -23.5570  Earthquake   15.00   1.340411   \n",
       "4     1965-01-09 13:32:50   11.9380   126.4270  Earthquake   15.00   1.340411   \n",
       "...                   ...       ...        ...         ...     ...        ...   \n",
       "23224 2016-12-28 08:22:12   38.3917  -118.8941  Earthquake   12.30   1.332594   \n",
       "23225 2016-12-28 09:13:47   38.3777  -118.8957  Earthquake    8.80   1.328599   \n",
       "23226 2016-12-28 12:38:51   36.9179   140.4262  Earthquake   10.00   1.344235   \n",
       "23227 2016-12-29 22:30:19   -9.0283   118.6639  Earthquake   79.00   1.359012   \n",
       "23228 2016-12-30 20:08:28   37.3973   141.4103  Earthquake   11.94   1.328599   \n",
       "\n",
       "      Magnitude Type  Root Mean Square            ID  Source Location Source  \\\n",
       "0                 MW           1.02351  ISCGEM860706  ISCGEM          ISCGEM   \n",
       "1                 MW           1.02351  ISCGEM860737  ISCGEM          ISCGEM   \n",
       "2                 MW           1.02351  ISCGEM860762  ISCGEM          ISCGEM   \n",
       "3                 MW           1.02351  ISCGEM860856  ISCGEM          ISCGEM   \n",
       "4                 MW           1.02351  ISCGEM860890  ISCGEM          ISCGEM   \n",
       "...              ...               ...           ...     ...             ...   \n",
       "23224             ML           0.18980    NN00570710      NN              NN   \n",
       "23225             ML           0.21870    NN00570744      NN              NN   \n",
       "23226            MWW           1.52000    US10007NAF      US              US   \n",
       "23227            MWW           1.43000    US10007NL0      US              US   \n",
       "23228             MB           0.91000    US10007NTD      US              US   \n",
       "\n",
       "      Magnitude Source     Status  \n",
       "0               ISCGEM  Automatic  \n",
       "1               ISCGEM  Automatic  \n",
       "2               ISCGEM  Automatic  \n",
       "3               ISCGEM  Automatic  \n",
       "4               ISCGEM  Automatic  \n",
       "...                ...        ...  \n",
       "23224               NN   Reviewed  \n",
       "23225               NN   Reviewed  \n",
       "23226               US   Reviewed  \n",
       "23227               US   Reviewed  \n",
       "23228               US   Reviewed  \n",
       "\n",
       "[23229 rows x 13 columns]"
      ]
     },
     "execution_count": 61,
     "metadata": {},
     "output_type": "execute_result"
    }
   ],
   "source": [
    "data.reset_index(inplace = True)\n",
    "data"
   ]
  },
  {
   "cell_type": "code",
   "execution_count": 62,
   "id": "0036c45c",
   "metadata": {},
   "outputs": [],
   "source": [
    "data = data.sample(n = 1500)"
   ]
  },
  {
   "cell_type": "code",
   "execution_count": 63,
   "id": "1d6e57c3",
   "metadata": {},
   "outputs": [
    {
     "ename": "NameError",
     "evalue": "name 'cursor' is not defined",
     "output_type": "error",
     "traceback": [
      "\u001b[1;31m---------------------------------------------------------------------------\u001b[0m",
      "\u001b[1;31mNameError\u001b[0m                                 Traceback (most recent call last)",
      "\u001b[1;32m~\\AppData\\Local\\Temp/ipykernel_14556/1367773779.py\u001b[0m in \u001b[0;36m<module>\u001b[1;34m\u001b[0m\n\u001b[0;32m      1\u001b[0m \u001b[1;32mfor\u001b[0m \u001b[0mindex\u001b[0m\u001b[1;33m,\u001b[0m \u001b[0mrow\u001b[0m \u001b[1;32min\u001b[0m \u001b[0mdata\u001b[0m\u001b[1;33m.\u001b[0m\u001b[0miterrows\u001b[0m\u001b[1;33m(\u001b[0m\u001b[1;33m)\u001b[0m\u001b[1;33m:\u001b[0m\u001b[1;33m\u001b[0m\u001b[1;33m\u001b[0m\u001b[0m\n\u001b[1;32m----> 2\u001b[1;33m      \u001b[0mcursor\u001b[0m\u001b[1;33m.\u001b[0m\u001b[0mexecute\u001b[0m\u001b[1;33m(\u001b[0m\u001b[1;34m\"INSERT INTO dbo.Earthquake (Date_Time,Latitude,Longitude,Disaster_Type,Source,Status) values(?,?,?,?,?,?)\"\u001b[0m\u001b[1;33m,\u001b[0m\u001b[0mrow\u001b[0m\u001b[1;33m.\u001b[0m\u001b[0mDate_Time\u001b[0m\u001b[1;33m,\u001b[0m \u001b[0mrow\u001b[0m\u001b[1;33m.\u001b[0m\u001b[0mLatitude\u001b[0m\u001b[1;33m,\u001b[0m\u001b[0mrow\u001b[0m\u001b[1;33m.\u001b[0m\u001b[0mLongitude\u001b[0m\u001b[1;33m,\u001b[0m\u001b[0mrow\u001b[0m\u001b[1;33m.\u001b[0m\u001b[0mType\u001b[0m\u001b[1;33m,\u001b[0m\u001b[0mrow\u001b[0m\u001b[1;33m.\u001b[0m\u001b[0mSource\u001b[0m\u001b[1;33m,\u001b[0m\u001b[0mrow\u001b[0m\u001b[1;33m.\u001b[0m\u001b[0mStatus\u001b[0m\u001b[1;33m)\u001b[0m\u001b[1;33m\u001b[0m\u001b[1;33m\u001b[0m\u001b[0m\n\u001b[0m\u001b[0;32m      3\u001b[0m \u001b[0mconn\u001b[0m\u001b[1;33m.\u001b[0m\u001b[0mcommit\u001b[0m\u001b[1;33m(\u001b[0m\u001b[1;33m)\u001b[0m\u001b[1;33m\u001b[0m\u001b[1;33m\u001b[0m\u001b[0m\n",
      "\u001b[1;31mNameError\u001b[0m: name 'cursor' is not defined"
     ]
    }
   ],
   "source": [
    "for index, row in data.iterrows():\n",
    "     cursor.execute(\"INSERT INTO dbo.Earthquake (Date_Time,Latitude,Longitude,Disaster_Type,Source,Status) values(?,?,?,?,?,?)\",row.Date_Time, row.Latitude,row.Longitude,row.Type,row.Source,row.Status)\n",
    "conn.commit()"
   ]
  },
  {
   "cell_type": "code",
   "execution_count": 64,
   "id": "191c7ad1",
   "metadata": {},
   "outputs": [
    {
     "ename": "NameError",
     "evalue": "name 'cursor' is not defined",
     "output_type": "error",
     "traceback": [
      "\u001b[1;31m---------------------------------------------------------------------------\u001b[0m",
      "\u001b[1;31mNameError\u001b[0m                                 Traceback (most recent call last)",
      "\u001b[1;32m~\\AppData\\Local\\Temp/ipykernel_14556/2935006334.py\u001b[0m in \u001b[0;36m<module>\u001b[1;34m\u001b[0m\n\u001b[1;32m----> 1\u001b[1;33m \u001b[0mcursor\u001b[0m\u001b[1;33m.\u001b[0m\u001b[0mclose\u001b[0m\u001b[1;33m(\u001b[0m\u001b[1;33m)\u001b[0m\u001b[1;33m\u001b[0m\u001b[1;33m\u001b[0m\u001b[0m\n\u001b[0m",
      "\u001b[1;31mNameError\u001b[0m: name 'cursor' is not defined"
     ]
    }
   ],
   "source": [
    "cursor.close()"
   ]
  },
  {
   "cell_type": "code",
   "execution_count": null,
   "id": "7c60cc34",
   "metadata": {},
   "outputs": [],
   "source": []
  },
  {
   "cell_type": "code",
   "execution_count": null,
   "id": "5f8d012d",
   "metadata": {},
   "outputs": [],
   "source": []
  }
 ],
 "metadata": {
  "kernelspec": {
   "display_name": "Python 3 (ipykernel)",
   "language": "python",
   "name": "python3"
  },
  "language_info": {
   "codemirror_mode": {
    "name": "ipython",
    "version": 3
   },
   "file_extension": ".py",
   "mimetype": "text/x-python",
   "name": "python",
   "nbconvert_exporter": "python",
   "pygments_lexer": "ipython3",
   "version": "3.9.7"
  }
 },
 "nbformat": 4,
 "nbformat_minor": 5
}
