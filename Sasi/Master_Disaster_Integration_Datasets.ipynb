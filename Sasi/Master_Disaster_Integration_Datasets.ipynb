{
 "cells": [
  {
   "cell_type": "markdown",
   "id": "13f2ec4a",
   "metadata": {},
   "source": [
    "# Integrating datasets in Azure SQL Server"
   ]
  },
  {
   "cell_type": "markdown",
   "id": "ad87dfad",
   "metadata": {},
   "source": [
    "### Name: Sasikumar Jayapal\n",
    "### Datasets: Integrating all datasets(Dataset 1, Dataset 3)\n",
    "### Student ID: x21153272"
   ]
  },
  {
   "cell_type": "code",
   "execution_count": null,
   "id": "2e334c52",
   "metadata": {},
   "outputs": [],
   "source": [
    "import pandas as pd\n",
    "import numpy as np"
   ]
  },
  {
   "cell_type": "code",
   "execution_count": 2,
   "id": "c255e0d4",
   "metadata": {},
   "outputs": [],
   "source": [
    "# #defining connection parameters\n",
    "# import pyodbc \n",
    "# server = 'msc-dat-analytics.database.windows.net' \n",
    "# database = 'MscDAT' \n",
    "# username = 'dap' \n",
    "# password = 'India-data-analytics' \n",
    "# conn = pyodbc.connect('DRIVER={ODBC Driver 17 for SQL Server};SERVER='+server+';DATABASE='+database+';UID='+username+';PWD='+ password)"
   ]
  },
  {
   "cell_type": "code",
   "execution_count": 3,
   "id": "362d0c56",
   "metadata": {},
   "outputs": [],
   "source": [
    "#defining connection parameters\n",
    "import pyodbc \n",
    "\n",
    "conn = pyodbc.connect(\"Driver={SQL Server Native Client 11.0};\"\n",
    "                      \"Server=LAPTOP-FMSOI4VL;\"\n",
    "                      \"Database=MscDAP;\"\n",
    "                      \"Trusted_Connection=yes;\")\n"
   ]
  },
  {
   "cell_type": "code",
   "execution_count": 4,
   "id": "ac038a5f",
   "metadata": {},
   "outputs": [],
   "source": [
    "cursor = conn.cursor()"
   ]
  },
  {
   "cell_type": "code",
   "execution_count": 5,
   "id": "b20506aa",
   "metadata": {},
   "outputs": [],
   "source": [
    "Master_Disaster_sql = \"SELECT DisasterYear,Country_code,Country_Name,Latitude,Longitude,DisasterType,TotalDeaths FROM Natural_Disaster_Events UNION ALL SELECT Year,Country_Code,Country_Name,Latitude,Longitude,Type,Death_Toll FROM Death_Toll_by_Disaster\"\n",
    "df_Master_Disaster_sql = pd.read_sql(Master_Disaster_sql, conn)"
   ]
  },
  {
   "cell_type": "code",
   "execution_count": 6,
   "id": "b41488cc",
   "metadata": {},
   "outputs": [
    {
     "data": {
      "text/plain": [
       "<pyodbc.Cursor at 0x2085ae62eb0>"
      ]
     },
     "execution_count": 6,
     "metadata": {},
     "output_type": "execute_result"
    }
   ],
   "source": [
    "cursor.execute('''\n",
    "IF OBJECT_ID('dbo.Master_Disaster_Event', 'U') IS NOT NULL \n",
    "  DROP TABLE dbo.Master_Disaster_Event; \n",
    "''')"
   ]
  },
  {
   "cell_type": "code",
   "execution_count": 7,
   "id": "de030836",
   "metadata": {},
   "outputs": [
    {
     "data": {
      "text/plain": [
       "<pyodbc.Cursor at 0x2085ae62eb0>"
      ]
     },
     "execution_count": 7,
     "metadata": {},
     "output_type": "execute_result"
    }
   ],
   "source": [
    "cursor.execute('''\n",
    "CREATE TABLE dbo.Master_Disaster_Event(\n",
    "[Event_ID] [int] IDENTITY(1000,1) primary key,\n",
    "[Year] [int] NULL,\n",
    "[Country_Code] [char](3) NULL,\n",
    "[Country_Name] [varchar](100) NULL,\n",
    "[Latitude] [float] NULL,\n",
    "[Longitude] [float] NULL,\n",
    "[Type] [varchar](50) NULL,\n",
    "[Death_Toll] [int] NULL,\n",
    "[Severity] [varchar](30) NULL)\n",
    "''')"
   ]
  },
  {
   "cell_type": "code",
   "execution_count": 8,
   "id": "aa8ac42a",
   "metadata": {},
   "outputs": [],
   "source": [
    "#Inserting dataframe data into dbo.Master_Disaster_Event table\n",
    "for index, row in df_Master_Disaster_sql.iterrows():\n",
    "    cursor.execute(\"INSERT INTO dbo.Master_Disaster_Event(Year,Country_Code,Country_Name,Latitude,Longitude,Type,Death_Toll) values(?,?,?,?,?,?,?)\",row.DisasterYear,row.Country_code, row.Country_Name,row.Latitude,row.Longitude,row.DisasterType,row.TotalDeaths)\n",
    "    conn.commit()"
   ]
  },
  {
   "cell_type": "code",
   "execution_count": 9,
   "id": "71056719",
   "metadata": {},
   "outputs": [],
   "source": [
    "cursor.execute('''\n",
    "MERGE dbo.Master_Disaster_Event AS TARGET\n",
    "USING dbo.RISK_COUNTRY AS SOURCE\n",
    "ON(TARGET.Country_code = SOURCE.Country_Code)\n",
    "WHEN MATCHED \n",
    "THEN UPDATE SET \n",
    "TARGET.Severity = SOURCE.Risk_Category;\n",
    "''')\n",
    "conn.commit()"
   ]
  },
  {
   "cell_type": "code",
   "execution_count": 10,
   "id": "28241afe",
   "metadata": {},
   "outputs": [],
   "source": [
    "Master_Disaster_Event_sql = \"SELECT * FROM dbo.Master_Disaster_Event\"\n",
    "df_Master_Disaster_Event_sql = pd.read_sql(Master_Disaster_Event_sql, conn)"
   ]
  },
  {
   "cell_type": "code",
   "execution_count": 11,
   "id": "f99d4ea6",
   "metadata": {},
   "outputs": [],
   "source": [
    "cursor.close()"
   ]
  },
  {
   "cell_type": "code",
   "execution_count": 12,
   "id": "7dea16d3",
   "metadata": {},
   "outputs": [],
   "source": [
    "df_Master_Disaster_Event_sql.to_csv(\"Master_Disaster_Events.csv\")"
   ]
  },
  {
   "cell_type": "code",
   "execution_count": null,
   "id": "d2cf461c",
   "metadata": {},
   "outputs": [],
   "source": []
  }
 ],
 "metadata": {
  "kernelspec": {
   "display_name": "Python 3 (ipykernel)",
   "language": "python",
   "name": "python3"
  },
  "language_info": {
   "codemirror_mode": {
    "name": "ipython",
    "version": 3
   },
   "file_extension": ".py",
   "mimetype": "text/x-python",
   "name": "python",
   "nbconvert_exporter": "python",
   "pygments_lexer": "ipython3",
   "version": "3.9.7"
  }
 },
 "nbformat": 4,
 "nbformat_minor": 5
}
